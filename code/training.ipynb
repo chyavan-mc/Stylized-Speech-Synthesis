{
 "cells": [
  {
   "cell_type": "code",
   "execution_count": 1,
   "metadata": {},
   "outputs": [],
   "source": [
    "from keras.layers import Activation, Dense, LSTM, Dropout, Conv2D, Flatten, MaxPooling2D, Bidirectional, Embedding\n",
    "from keras.models import Sequential\n",
    "import numpy as np\n",
    "from keras import optimizers\n",
    "from functools import partial\n",
    "from tensorflow.nn import leaky_relu\n",
    "\n",
    "import warnings\n",
    "warnings.filterwarnings('ignore')"
   ]
  },
  {
   "cell_type": "code",
   "execution_count": 2,
   "metadata": {},
   "outputs": [],
   "source": [
    "with open('../data/train_test.npy', 'rb') as f:\n",
    "    X_train = np.load(f)\n",
    "    y_train = np.load(f)\n",
    "    X_test = np.load(f)\n",
    "    y_test = np.load(f)"
   ]
  },
  {
   "cell_type": "code",
   "execution_count": 3,
   "metadata": {},
   "outputs": [],
   "source": [
    "input_shape=X_train[0].shape\n",
    "kernel_size = (3,3)\n",
    "stride_length = (2,2)\n",
    "pool_size = (2,2)"
   ]
  },
  {
   "cell_type": "code",
   "execution_count": 4,
   "metadata": {},
   "outputs": [],
   "source": [
    "model = Sequential()\n",
    "\n",
    "model.add(Conv2D(input_shape=input_shape,filters=64,kernel_size=kernel_size,padding=\"same\", activation=\"relu\"))\n",
    "model.add(Conv2D(filters=64,kernel_size=kernel_size,padding=\"same\", activation=\"relu\"))\n",
    "model.add(MaxPooling2D(pool_size=pool_size,strides=stride_length))\n",
    "model.add(Conv2D(filters=128, kernel_size=kernel_size, padding=\"same\", activation=\"relu\"))\n",
    "model.add(Conv2D(filters=128, kernel_size=kernel_size, padding=\"same\", activation=\"relu\"))\n",
    "model.add(MaxPooling2D(pool_size=pool_size,strides=stride_length))\n",
    "model.add(Conv2D(filters=256, kernel_size=kernel_size, padding=\"same\", activation=\"relu\"))\n",
    "model.add(Conv2D(filters=256, kernel_size=kernel_size, padding=\"same\", activation=\"relu\"))\n",
    "model.add(Conv2D(filters=256, kernel_size=kernel_size, padding=\"same\", activation=\"relu\"))\n",
    "model.add(MaxPooling2D(pool_size=pool_size,strides=stride_length))\n",
    "model.add(Conv2D(filters=512, kernel_size=kernel_size, padding=\"same\", activation=\"relu\"))\n",
    "model.add(Conv2D(filters=512, kernel_size=kernel_size, padding=\"same\", activation=\"relu\"))\n",
    "model.add(Conv2D(filters=512, kernel_size=kernel_size, padding=\"same\", activation=\"relu\"))\n",
    "model.add(MaxPooling2D(pool_size=pool_size,strides=stride_length))\n",
    "model.add(Conv2D(filters=512, kernel_size=kernel_size, padding=\"same\", activation=\"relu\"))\n",
    "model.add(Conv2D(filters=512, kernel_size=kernel_size, padding=\"same\", activation=\"relu\"))\n",
    "model.add(Conv2D(filters=512, kernel_size=kernel_size, padding=\"same\", activation=\"relu\"))\n",
    "model.add(MaxPooling2D(pool_size=pool_size,strides=stride_length))"
   ]
  },
  {
   "cell_type": "code",
   "execution_count": 6,
   "metadata": {},
   "outputs": [
    {
     "name": "stdout",
     "output_type": "stream",
     "text": [
      "WARNING:tensorflow:Layer lstm will not use cuDNN kernels since it doesn't meet the criteria. It will use a generic GPU kernel as fallback when running on GPU.\n"
     ]
    }
   ],
   "source": [
    "model.add(Flatten())\n",
    "model.add(Dense(units=4096,activation=\"relu\"))\n",
    "model.add(Dense(units=4096,activation=\"relu\"))\n",
    "model.add(Dense(units=26, activation=\"softmax\"))"
   ]
  },
  {
   "cell_type": "code",
   "execution_count": 7,
   "metadata": {},
   "outputs": [
    {
     "name": "stdout",
     "output_type": "stream",
     "text": [
      "Model: \"sequential\"\n",
      "_________________________________________________________________\n",
      " Layer (type)                Output Shape              Param #   \n",
      "=================================================================\n",
      " embedding (Embedding)       (None, None, 3)           6         \n",
      "                                                                 \n",
      " lstm (LSTM)                 (None, 32)                4608      \n",
      "                                                                 \n",
      " dense (Dense)               (None, 128)               4224      \n",
      "                                                                 \n",
      " dense_1 (Dense)             (None, 64)                8256      \n",
      "                                                                 \n",
      " dense_2 (Dense)             (None, 32)                2080      \n",
      "                                                                 \n",
      " dense_3 (Dense)             (None, 26)                858       \n",
      "                                                                 \n",
      "=================================================================\n",
      "Total params: 20,032\n",
      "Trainable params: 20,032\n",
      "Non-trainable params: 0\n",
      "_________________________________________________________________\n"
     ]
    }
   ],
   "source": [
    "model.compile(\n",
    "\toptimizer=optimizers.Adam(learning_rate=0.001),\n",
    "\tloss=\"categorical_crossentropy\",\n",
    "\tmetrics=['accuracy'])\n",
    "\n",
    "model.summary()"
   ]
  },
  {
   "cell_type": "code",
   "execution_count": 8,
   "metadata": {},
   "outputs": [
    {
     "name": "stdout",
     "output_type": "stream",
     "text": [
      "Epoch 1/20\n",
      "WARNING:tensorflow:Model was constructed with shape (None, None) for input KerasTensor(type_spec=TensorSpec(shape=(None, None), dtype=tf.float32, name='embedding_input'), name='embedding_input', description=\"created by layer 'embedding_input'\"), but it was called on an input with incompatible shape (None, 148, 171, 1).\n"
     ]
    },
    {
     "ename": "ValueError",
     "evalue": "in user code:\n\n    File \"C:\\Users\\chyav\\AppData\\Roaming\\Python\\Python310\\site-packages\\keras\\engine\\training.py\", line 1051, in train_function  *\n        return step_function(self, iterator)\n    File \"C:\\Users\\chyav\\AppData\\Roaming\\Python\\Python310\\site-packages\\keras\\engine\\training.py\", line 1040, in step_function  **\n        outputs = model.distribute_strategy.run(run_step, args=(data,))\n    File \"C:\\Users\\chyav\\AppData\\Roaming\\Python\\Python310\\site-packages\\keras\\engine\\training.py\", line 1030, in run_step  **\n        outputs = model.train_step(data)\n    File \"C:\\Users\\chyav\\AppData\\Roaming\\Python\\Python310\\site-packages\\keras\\engine\\training.py\", line 889, in train_step\n        y_pred = self(x, training=True)\n    File \"C:\\Users\\chyav\\AppData\\Roaming\\Python\\Python310\\site-packages\\keras\\utils\\traceback_utils.py\", line 67, in error_handler\n        raise e.with_traceback(filtered_tb) from None\n    File \"C:\\Users\\chyav\\AppData\\Roaming\\Python\\Python310\\site-packages\\keras\\engine\\input_spec.py\", line 214, in assert_input_compatibility\n        raise ValueError(f'Input {input_index} of layer \"{layer_name}\" '\n\n    ValueError: Exception encountered when calling layer \"sequential\" (type Sequential).\n    \n    Input 0 of layer \"lstm\" is incompatible with the layer: expected ndim=3, found ndim=5. Full shape received: (None, 148, 171, 1, 3)\n    \n    Call arguments received by layer \"sequential\" (type Sequential):\n      • inputs=tf.Tensor(shape=(None, 148, 171, 1), dtype=float32)\n      • training=True\n      • mask=None\n",
     "output_type": "error",
     "traceback": [
      "\u001b[1;31m---------------------------------------------------------------------------\u001b[0m",
      "\u001b[1;31mValueError\u001b[0m                                Traceback (most recent call last)",
      "\u001b[1;32mc:\\Users\\chyav\\Documents\\College\\Courses\\2 - Fall\\12 - MIS 382N - Adv. ML\\Assignments\\Project\\Git\\code\\training.ipynb Cell 8\u001b[0m in \u001b[0;36m<cell line: 1>\u001b[1;34m()\u001b[0m\n\u001b[1;32m----> <a href='vscode-notebook-cell:/c%3A/Users/chyav/Documents/College/Courses/2%20-%20Fall/12%20-%20MIS%20382N%20-%20Adv.%20ML/Assignments/Project/Git/code/training.ipynb#W6sZmlsZQ%3D%3D?line=0'>1</a>\u001b[0m history \u001b[39m=\u001b[39m model\u001b[39m.\u001b[39;49mfit(\n\u001b[0;32m      <a href='vscode-notebook-cell:/c%3A/Users/chyav/Documents/College/Courses/2%20-%20Fall/12%20-%20MIS%20382N%20-%20Adv.%20ML/Assignments/Project/Git/code/training.ipynb#W6sZmlsZQ%3D%3D?line=1'>2</a>\u001b[0m \tx\u001b[39m=\u001b[39;49mX_train,\n\u001b[0;32m      <a href='vscode-notebook-cell:/c%3A/Users/chyav/Documents/College/Courses/2%20-%20Fall/12%20-%20MIS%20382N%20-%20Adv.%20ML/Assignments/Project/Git/code/training.ipynb#W6sZmlsZQ%3D%3D?line=2'>3</a>\u001b[0m \ty\u001b[39m=\u001b[39;49my_train,\n\u001b[0;32m      <a href='vscode-notebook-cell:/c%3A/Users/chyav/Documents/College/Courses/2%20-%20Fall/12%20-%20MIS%20382N%20-%20Adv.%20ML/Assignments/Project/Git/code/training.ipynb#W6sZmlsZQ%3D%3D?line=3'>4</a>\u001b[0m \tepochs\u001b[39m=\u001b[39;49m\u001b[39m20\u001b[39;49m,\n\u001b[0;32m      <a href='vscode-notebook-cell:/c%3A/Users/chyav/Documents/College/Courses/2%20-%20Fall/12%20-%20MIS%20382N%20-%20Adv.%20ML/Assignments/Project/Git/code/training.ipynb#W6sZmlsZQ%3D%3D?line=4'>5</a>\u001b[0m \tbatch_size\u001b[39m=\u001b[39;49m\u001b[39m16\u001b[39;49m,\n\u001b[0;32m      <a href='vscode-notebook-cell:/c%3A/Users/chyav/Documents/College/Courses/2%20-%20Fall/12%20-%20MIS%20382N%20-%20Adv.%20ML/Assignments/Project/Git/code/training.ipynb#W6sZmlsZQ%3D%3D?line=5'>6</a>\u001b[0m \tvalidation_data\u001b[39m=\u001b[39;49m (X_test, y_test))\n\u001b[0;32m      <a href='vscode-notebook-cell:/c%3A/Users/chyav/Documents/College/Courses/2%20-%20Fall/12%20-%20MIS%20382N%20-%20Adv.%20ML/Assignments/Project/Git/code/training.ipynb#W6sZmlsZQ%3D%3D?line=7'>8</a>\u001b[0m score \u001b[39m=\u001b[39m model\u001b[39m.\u001b[39mevaluate(\n\u001b[0;32m      <a href='vscode-notebook-cell:/c%3A/Users/chyav/Documents/College/Courses/2%20-%20Fall/12%20-%20MIS%20382N%20-%20Adv.%20ML/Assignments/Project/Git/code/training.ipynb#W6sZmlsZQ%3D%3D?line=8'>9</a>\u001b[0m \tx\u001b[39m=\u001b[39mX_test,\n\u001b[0;32m     <a href='vscode-notebook-cell:/c%3A/Users/chyav/Documents/College/Courses/2%20-%20Fall/12%20-%20MIS%20382N%20-%20Adv.%20ML/Assignments/Project/Git/code/training.ipynb#W6sZmlsZQ%3D%3D?line=9'>10</a>\u001b[0m \ty\u001b[39m=\u001b[39my_test)\n\u001b[0;32m     <a href='vscode-notebook-cell:/c%3A/Users/chyav/Documents/College/Courses/2%20-%20Fall/12%20-%20MIS%20382N%20-%20Adv.%20ML/Assignments/Project/Git/code/training.ipynb#W6sZmlsZQ%3D%3D?line=11'>12</a>\u001b[0m \u001b[39mprint\u001b[39m(\u001b[39m'\u001b[39m\u001b[39mTest loss:\u001b[39m\u001b[39m'\u001b[39m, score[\u001b[39m0\u001b[39m])\n",
      "File \u001b[1;32m~\\AppData\\Roaming\\Python\\Python310\\site-packages\\keras\\utils\\traceback_utils.py:67\u001b[0m, in \u001b[0;36mfilter_traceback.<locals>.error_handler\u001b[1;34m(*args, **kwargs)\u001b[0m\n\u001b[0;32m     65\u001b[0m \u001b[39mexcept\u001b[39;00m \u001b[39mException\u001b[39;00m \u001b[39mas\u001b[39;00m e:  \u001b[39m# pylint: disable=broad-except\u001b[39;00m\n\u001b[0;32m     66\u001b[0m   filtered_tb \u001b[39m=\u001b[39m _process_traceback_frames(e\u001b[39m.\u001b[39m__traceback__)\n\u001b[1;32m---> 67\u001b[0m   \u001b[39mraise\u001b[39;00m e\u001b[39m.\u001b[39mwith_traceback(filtered_tb) \u001b[39mfrom\u001b[39;00m \u001b[39mNone\u001b[39m\n\u001b[0;32m     68\u001b[0m \u001b[39mfinally\u001b[39;00m:\n\u001b[0;32m     69\u001b[0m   \u001b[39mdel\u001b[39;00m filtered_tb\n",
      "File \u001b[1;32m~\\AppData\\Local\\Temp\\__autograph_generated_filekiwggn96.py:15\u001b[0m, in \u001b[0;36mouter_factory.<locals>.inner_factory.<locals>.tf__train_function\u001b[1;34m(iterator)\u001b[0m\n\u001b[0;32m     13\u001b[0m \u001b[39mtry\u001b[39;00m:\n\u001b[0;32m     14\u001b[0m     do_return \u001b[39m=\u001b[39m \u001b[39mTrue\u001b[39;00m\n\u001b[1;32m---> 15\u001b[0m     retval_ \u001b[39m=\u001b[39m ag__\u001b[39m.\u001b[39mconverted_call(ag__\u001b[39m.\u001b[39mld(step_function), (ag__\u001b[39m.\u001b[39mld(\u001b[39mself\u001b[39m), ag__\u001b[39m.\u001b[39mld(iterator)), \u001b[39mNone\u001b[39;00m, fscope)\n\u001b[0;32m     16\u001b[0m \u001b[39mexcept\u001b[39;00m:\n\u001b[0;32m     17\u001b[0m     do_return \u001b[39m=\u001b[39m \u001b[39mFalse\u001b[39;00m\n",
      "\u001b[1;31mValueError\u001b[0m: in user code:\n\n    File \"C:\\Users\\chyav\\AppData\\Roaming\\Python\\Python310\\site-packages\\keras\\engine\\training.py\", line 1051, in train_function  *\n        return step_function(self, iterator)\n    File \"C:\\Users\\chyav\\AppData\\Roaming\\Python\\Python310\\site-packages\\keras\\engine\\training.py\", line 1040, in step_function  **\n        outputs = model.distribute_strategy.run(run_step, args=(data,))\n    File \"C:\\Users\\chyav\\AppData\\Roaming\\Python\\Python310\\site-packages\\keras\\engine\\training.py\", line 1030, in run_step  **\n        outputs = model.train_step(data)\n    File \"C:\\Users\\chyav\\AppData\\Roaming\\Python\\Python310\\site-packages\\keras\\engine\\training.py\", line 889, in train_step\n        y_pred = self(x, training=True)\n    File \"C:\\Users\\chyav\\AppData\\Roaming\\Python\\Python310\\site-packages\\keras\\utils\\traceback_utils.py\", line 67, in error_handler\n        raise e.with_traceback(filtered_tb) from None\n    File \"C:\\Users\\chyav\\AppData\\Roaming\\Python\\Python310\\site-packages\\keras\\engine\\input_spec.py\", line 214, in assert_input_compatibility\n        raise ValueError(f'Input {input_index} of layer \"{layer_name}\" '\n\n    ValueError: Exception encountered when calling layer \"sequential\" (type Sequential).\n    \n    Input 0 of layer \"lstm\" is incompatible with the layer: expected ndim=3, found ndim=5. Full shape received: (None, 148, 171, 1, 3)\n    \n    Call arguments received by layer \"sequential\" (type Sequential):\n      • inputs=tf.Tensor(shape=(None, 148, 171, 1), dtype=float32)\n      • training=True\n      • mask=None\n"
     ]
    }
   ],
   "source": [
    "history = model.fit(\n",
    "\tx=X_train,\n",
    "\ty=y_train,\n",
    "\tepochs=50,\n",
    "\tbatch_size=100,\n",
    "\tvalidation_data= (X_test, y_test))\n",
    "\n",
    "score = model.evaluate(\n",
    "\tx=X_test,\n",
    "\ty=y_test)\n",
    "\n",
    "print('Test loss:', score[0])\n",
    "print('Test accuracy:', score[1])"
   ]
  },
  {
   "cell_type": "code",
   "execution_count": null,
   "metadata": {},
   "outputs": [],
   "source": [
    "import matplotlib.pyplot as plt\n",
    "\n",
    "plt.plot(np.array(history.history[\"accuracy\"])*100)\n",
    "plt.plot(np.array(history.history['val_accuracy'])*100)\n",
    "plt.title(\"Model Accuracy\")\n",
    "plt.ylabel(\"Accuracy\")\n",
    "plt.xlabel(\"Epoch\")\n",
    "plt.legend([\"Training Accuracy\", \"Validation Accuracy\"])\n",
    "plt.show()"
   ]
  },
  {
   "cell_type": "code",
   "execution_count": null,
   "metadata": {},
   "outputs": [],
   "source": [
    "plt.plot(history.history['loss'])\n",
    "plt.plot(history.history['val_loss'])\n",
    "plt.title(\"Model Loss\")\n",
    "plt.ylabel(\"Loss\")\n",
    "plt.xlabel(\"Epoch\")\n",
    "plt.legend([\"Training loss\",\"Validation Loss\"])\n",
    "plt.show()"
   ]
  }
 ],
 "metadata": {
  "kernelspec": {
   "display_name": "Python 3.10.5 64-bit",
   "language": "python",
   "name": "python3"
  },
  "language_info": {
   "codemirror_mode": {
    "name": "ipython",
    "version": 3
   },
   "file_extension": ".py",
   "mimetype": "text/x-python",
   "name": "python",
   "nbconvert_exporter": "python",
   "pygments_lexer": "ipython3",
   "version": "3.10.5"
  },
  "orig_nbformat": 4,
  "vscode": {
   "interpreter": {
    "hash": "26de051ba29f2982a8de78e945f0abaf191376122a1563185a90213a26c5da77"
   }
  }
 },
 "nbformat": 4,
 "nbformat_minor": 2
}
