{
 "cells": [
  {
   "attachments": {},
   "cell_type": "markdown",
   "id": "8687ff3d",
   "metadata": {},
   "source": [
    "> Required Imports"
   ]
  },
  {
   "cell_type": "code",
   "execution_count": 1,
   "id": "21b3be2b",
   "metadata": {},
   "outputs": [],
   "source": [
    "import pandas as pd\n",
    "from keras.layers import Dense, Conv1D, Flatten, MaxPooling1D, Conv2D, MaxPooling2D\n",
    "from keras.models import Sequential\n",
    "import numpy as np\n",
    "from keras.optimizers import Adam\n",
    "from tensorflow import keras\n",
    "import tensorflow as tf\n",
    "import matplotlib.pyplot as plt\n",
    "from sklearn.model_selection import train_test_split\n",
    "from os.path import exists\n",
    "from config import CONFIG\n",
    "import warnings\n",
    "warnings.filterwarnings('ignore')"
   ]
  },
  {
   "attachments": {},
   "cell_type": "markdown",
   "id": "be4585b3",
   "metadata": {},
   "source": [
    "> Get the recognition trained model, and get the convolutions performed, and use that to build a model that only convolutes the input"
   ]
  },
  {
   "cell_type": "code",
   "execution_count": null,
   "id": "19ce8857",
   "metadata": {},
   "outputs": [],
   "source": [
    "# Load trained recognition model\n",
    "loaded_model = keras.models.load_model(CONFIG.get(\"files\", \"recog_model\"))\n",
    "\n",
    "# Get layerwise weights\n",
    "weights = []\n",
    "for layr in loaded_model.layers:\n",
    "    weights.append(layr.get_weights())\n",
    "\n",
    "# Build only the convolutional part of the network and assign the trained weights\n",
    "model = Sequential()\n",
    "model.add(Conv2D(input_shape=(128,171,1),filters=64,kernel_size=(3,3),padding=\"same\", activation=\"relu\"))\n",
    "model.add(Conv2D(filters=64,kernel_size=(3,3),padding=\"same\", activation=\"relu\"))\n",
    "model.add(MaxPooling2D(pool_size=(2,2),strides=(2,2)))\n",
    "model.add(Conv2D(filters=128, kernel_size=(3,3), padding=\"same\", activation=\"relu\"))\n",
    "model.add(Conv2D(filters=128, kernel_size=(3,3), padding=\"same\", activation=\"relu\"))\n",
    "model.add(MaxPooling2D(pool_size=(2,2),strides=(2,2)))\n",
    "model.add(Conv2D(filters=256, kernel_size=(3,3), padding=\"same\", activation=\"relu\"))\n",
    "model.add(Conv2D(filters=256, kernel_size=(3,3), padding=\"same\", activation=\"relu\"))\n",
    "model.add(Conv2D(filters=256, kernel_size=(3,3), padding=\"same\", activation=\"relu\"))\n",
    "model.add(MaxPooling2D(pool_size=(2,2),strides=(2,2)))\n",
    "model.add(Conv2D(filters=512, kernel_size=(3,3), padding=\"same\", activation=\"relu\"))\n",
    "model.add(Conv2D(filters=512, kernel_size=(3,3), padding=\"same\", activation=\"relu\"))\n",
    "model.add(Conv2D(filters=512, kernel_size=(3,3), padding=\"same\", activation=\"relu\"))\n",
    "model.add(MaxPooling2D(pool_size=(2,2),strides=(2,2)))\n",
    "model.add(Conv2D(filters=512, kernel_size=(3,3), padding=\"same\", activation=\"relu\"))\n",
    "model.add(Conv2D(filters=512, kernel_size=(3,3), padding=\"same\", activation=\"relu\"))\n",
    "model.add(Conv2D(filters=512, kernel_size=(3,3), padding=\"same\", activation=\"relu\"))\n",
    "model.add(MaxPooling2D(pool_size=(2,2),strides=(2,2)))\n",
    "\n",
    "model.add(Flatten())\n",
    "model.add(Dense(units=4096,activation=\"relu\"))\n",
    "\n",
    "for i, layr in enumerate(model.layers):\n",
    "    model.layers[i].set_weights(weights[i])\n",
    "    model.layers[i].trainable = False"
   ]
  },
  {
   "cell_type": "code",
   "execution_count": null,
   "id": "93bfebb7",
   "metadata": {},
   "outputs": [],
   "source": [
    "df = pd.read_pickle(CONFIG.get(\"files\", \"base_data_spectro\"))\n",
    "model.predict(np.array([df['ps'][0].reshape((128,171,1))]), verbose=0)[0]"
   ]
  },
  {
   "attachments": {},
   "cell_type": "markdown",
   "id": "a10eb3e9",
   "metadata": {},
   "source": [
    "> Convolute the spectrograms to get the input for the decoders, and save it before further training"
   ]
  },
  {
   "cell_type": "code",
   "execution_count": null,
   "id": "abf95301",
   "metadata": {},
   "outputs": [],
   "source": [
    "def conv(ps):\n",
    "    # Convolute the Spectrogram to get a convoluted 4096 dimensional output (input to decoder)\n",
    "    return model.predict(np.array([ps.reshape((128,171,1))]), verbose=0)[0]\n",
    "\n",
    "def flatten(ps):\n",
    "    # Flatten the spectrogram to get a 1D representation representing the output\n",
    "    return ps.flatten()"
   ]
  },
  {
   "attachments": {},
   "cell_type": "markdown",
   "id": "de32f78d",
   "metadata": {},
   "source": [
    "> Load saved X and Y for training the Decoder, or create the X and Y by convoluting and flattening the spectrograms (respectively)"
   ]
  },
  {
   "cell_type": "code",
   "execution_count": null,
   "id": "274a4d87",
   "metadata": {},
   "outputs": [],
   "source": [
    "reconst_train_test = CONFIG.get(\"files\", \"reconst_train_test_data\")\n",
    "\n",
    "if exists(reconst_train_test):\n",
    "    with open(reconst_train_test, 'rb') as f:\n",
    "        x_tr = np.load(f, allow_pickle=True)\n",
    "        y_tr = np.load(f, allow_pickle=True)\n",
    "else:\n",
    "    x_tr = np.array(df['ps'].map(conv).values)\n",
    "    y_tr = np.array(df['ps'].map(flatten).values)\n",
    "    with open(reconst_train_test, 'wb') as f:\n",
    "        np.save(f, x_tr)\n",
    "        np.save(f, y_tr)"
   ]
  },
  {
   "attachments": {},
   "cell_type": "markdown",
   "id": "08a0daaf",
   "metadata": {},
   "source": [
    "> Training"
   ]
  },
  {
   "cell_type": "code",
   "execution_count": 3,
   "id": "2ce94c60",
   "metadata": {},
   "outputs": [],
   "source": [
    "x_train, x_test, y_train, y_test = train_test_split(x_tr, y_tr, test_size=0.25, shuffle=True)\n",
    "\n",
    "x_train = np.array([x.reshape( (4096, 1) ) for x in x_train])\n",
    "x_test = np.array([x.reshape( (4096, 1) ) for x in x_test])"
   ]
  },
  {
   "cell_type": "code",
   "execution_count": 5,
   "id": "1471892d",
   "metadata": {},
   "outputs": [],
   "source": [
    "pixels = 1216\n",
    "num_networks = 18\n",
    "input_shape=x_train[0].shape"
   ]
  },
  {
   "cell_type": "code",
   "execution_count": 6,
   "id": "dfdfe853",
   "metadata": {},
   "outputs": [
    {
     "name": "stdout",
     "output_type": "stream",
     "text": [
      "Metal device set to: Apple M2\n"
     ]
    },
    {
     "name": "stderr",
     "output_type": "stream",
     "text": [
      "2022-12-04 16:11:40.781072: I tensorflow/core/common_runtime/pluggable_device/pluggable_device_factory.cc:305] Could not identify NUMA node of platform GPU ID 0, defaulting to 0. Your kernel may not have been built with NUMA support.\n",
      "2022-12-04 16:11:40.781173: I tensorflow/core/common_runtime/pluggable_device/pluggable_device_factory.cc:271] Created TensorFlow device (/job:localhost/replica:0/task:0/device:GPU:0 with 0 MB memory) -> physical PluggableDevice (device: 0, name: METAL, pci bus id: <undefined>)\n"
     ]
    },
    {
     "name": "stdout",
     "output_type": "stream",
     "text": [
      "Epoch 1/15\n"
     ]
    },
    {
     "name": "stderr",
     "output_type": "stream",
     "text": [
      "2022-12-04 16:11:41.178452: W tensorflow/core/platform/profile_utils/cpu_utils.cc:128] Failed to get CPU frequency: 0 Hz\n",
      "2022-12-04 16:11:41.647416: I tensorflow/core/grappler/optimizers/custom_graph_optimizer_registry.cc:113] Plugin optimizer for device_type GPU is enabled.\n"
     ]
    },
    {
     "name": "stdout",
     "output_type": "stream",
     "text": [
      "4/4 [==============================] - ETA: 0s - loss: 884.2518 - mse: 884.2518"
     ]
    },
    {
     "name": "stderr",
     "output_type": "stream",
     "text": [
      "2022-12-04 16:11:45.649253: I tensorflow/core/grappler/optimizers/custom_graph_optimizer_registry.cc:113] Plugin optimizer for device_type GPU is enabled.\n"
     ]
    },
    {
     "name": "stdout",
     "output_type": "stream",
     "text": [
      "4/4 [==============================] - 5s 1s/step - loss: 884.2518 - mse: 884.2518 - val_loss: 801.6428 - val_mse: 801.6428\n",
      "Epoch 2/15\n",
      "4/4 [==============================] - 4s 1s/step - loss: 880.3160 - mse: 880.3159 - val_loss: 767.3243 - val_mse: 767.3243\n",
      "Epoch 3/15\n",
      "4/4 [==============================] - 4s 1s/step - loss: 878.9178 - mse: 878.9178 - val_loss: 766.7435 - val_mse: 766.7435\n",
      "Epoch 4/15\n",
      "4/4 [==============================] - 4s 1s/step - loss: 873.0212 - mse: 873.0212 - val_loss: 756.0303 - val_mse: 756.0303\n",
      "Epoch 5/15\n",
      "4/4 [==============================] - 4s 1s/step - loss: 863.2935 - mse: 863.2935 - val_loss: 743.3229 - val_mse: 743.3229\n",
      "Epoch 6/15\n",
      "4/4 [==============================] - 4s 1s/step - loss: 851.6268 - mse: 851.6268 - val_loss: 742.3248 - val_mse: 742.3248\n",
      "Epoch 7/15\n",
      "4/4 [==============================] - 4s 1s/step - loss: 848.1968 - mse: 848.1968 - val_loss: 733.0384 - val_mse: 733.0383\n",
      "Epoch 8/15\n",
      "4/4 [==============================] - 4s 1s/step - loss: 841.1780 - mse: 841.1780 - val_loss: 728.0616 - val_mse: 728.0615\n",
      "Epoch 9/15\n",
      "4/4 [==============================] - 4s 1s/step - loss: 833.3055 - mse: 833.3055 - val_loss: 736.8047 - val_mse: 736.8046\n",
      "Epoch 10/15\n",
      "4/4 [==============================] - 4s 1s/step - loss: 823.1749 - mse: 823.1749 - val_loss: 715.0892 - val_mse: 715.0892\n",
      "Epoch 11/15\n",
      "4/4 [==============================] - 4s 1s/step - loss: 806.7162 - mse: 806.7162 - val_loss: 695.7101 - val_mse: 695.7101\n",
      "Epoch 12/15\n",
      "4/4 [==============================] - 4s 1s/step - loss: 773.0656 - mse: 773.0656 - val_loss: 698.2182 - val_mse: 698.2181\n",
      "Epoch 13/15\n",
      "4/4 [==============================] - 4s 1s/step - loss: 761.0770 - mse: 761.0769 - val_loss: 650.4982 - val_mse: 650.4982\n",
      "Epoch 14/15\n",
      "4/4 [==============================] - 4s 1s/step - loss: 691.0673 - mse: 691.0673 - val_loss: 641.8121 - val_mse: 641.8121\n",
      "Epoch 15/15\n",
      "4/4 [==============================] - 4s 1s/step - loss: 637.2719 - mse: 637.2719 - val_loss: 594.1794 - val_mse: 594.1793\n"
     ]
    },
    {
     "name": "stderr",
     "output_type": "stream",
     "text": [
      "WARNING:absl:Found untraced functions such as _jit_compiled_convolution_op, _jit_compiled_convolution_op, _jit_compiled_convolution_op, _jit_compiled_convolution_op, _jit_compiled_convolution_op while saving (showing 5 of 13). These functions will not be directly callable after loading.\n"
     ]
    },
    {
     "name": "stdout",
     "output_type": "stream",
     "text": [
      "INFO:tensorflow:Assets written to: ../data/reconstruction_models/model_0/assets\n"
     ]
    },
    {
     "name": "stderr",
     "output_type": "stream",
     "text": [
      "INFO:tensorflow:Assets written to: ../data/reconstruction_models/model_0/assets\n"
     ]
    },
    {
     "name": "stdout",
     "output_type": "stream",
     "text": [
      "Epoch 1/15\n"
     ]
    },
    {
     "name": "stderr",
     "output_type": "stream",
     "text": [
      "2022-12-04 16:12:49.038985: I tensorflow/core/grappler/optimizers/custom_graph_optimizer_registry.cc:113] Plugin optimizer for device_type GPU is enabled.\n"
     ]
    },
    {
     "name": "stdout",
     "output_type": "stream",
     "text": [
      "4/4 [==============================] - ETA: 0s - loss: 8015.0215 - mse: 8015.0215"
     ]
    },
    {
     "name": "stderr",
     "output_type": "stream",
     "text": [
      "2022-12-04 16:12:53.019984: I tensorflow/core/grappler/optimizers/custom_graph_optimizer_registry.cc:113] Plugin optimizer for device_type GPU is enabled.\n"
     ]
    },
    {
     "name": "stdout",
     "output_type": "stream",
     "text": [
      "4/4 [==============================] - 5s 1s/step - loss: 8015.0215 - mse: 8015.0215 - val_loss: 10322.5010 - val_mse: 10322.5010\n",
      "Epoch 2/15\n",
      "4/4 [==============================] - 4s 1s/step - loss: 7970.4238 - mse: 7970.4238 - val_loss: 10231.9922 - val_mse: 10231.9922\n",
      "Epoch 3/15\n",
      "4/4 [==============================] - 4s 1s/step - loss: 7990.3911 - mse: 7990.3911 - val_loss: 10242.9326 - val_mse: 10242.9326\n",
      "Epoch 4/15\n",
      "4/4 [==============================] - 4s 1s/step - loss: 7968.4771 - mse: 7968.4771 - val_loss: 10143.8799 - val_mse: 10143.8789\n",
      "Epoch 5/15\n",
      "4/4 [==============================] - 4s 1s/step - loss: 7895.0630 - mse: 7895.0630 - val_loss: 10090.4844 - val_mse: 10090.4834\n",
      "Epoch 6/15\n",
      "4/4 [==============================] - 4s 1s/step - loss: 7854.6582 - mse: 7854.6582 - val_loss: 10015.5088 - val_mse: 10015.5078\n",
      "Epoch 7/15\n",
      "4/4 [==============================] - 4s 1s/step - loss: 7799.1426 - mse: 7799.1421 - val_loss: 9947.8350 - val_mse: 9947.8350\n",
      "Epoch 8/15\n",
      "4/4 [==============================] - 4s 1s/step - loss: 7756.2500 - mse: 7756.2500 - val_loss: 9890.9121 - val_mse: 9890.9111\n",
      "Epoch 9/15\n",
      "4/4 [==============================] - 4s 1s/step - loss: 7674.8760 - mse: 7674.8755 - val_loss: 9802.0635 - val_mse: 9802.0635\n",
      "Epoch 10/15\n",
      "4/4 [==============================] - 4s 1s/step - loss: 7540.7744 - mse: 7540.7744 - val_loss: 9750.4404 - val_mse: 9750.4404\n",
      "Epoch 11/15\n",
      "4/4 [==============================] - 4s 1s/step - loss: 7359.9619 - mse: 7359.9614 - val_loss: 9746.2334 - val_mse: 9746.2334\n",
      "Epoch 12/15\n",
      "4/4 [==============================] - 4s 1s/step - loss: 7224.4556 - mse: 7224.4546 - val_loss: 9719.6572 - val_mse: 9719.6562\n",
      "Epoch 13/15\n",
      "4/4 [==============================] - 4s 1s/step - loss: 7076.0439 - mse: 7076.0439 - val_loss: 9671.3301 - val_mse: 9671.3291\n",
      "Epoch 14/15\n",
      "4/4 [==============================] - 4s 1s/step - loss: 6963.9028 - mse: 6963.9028 - val_loss: 9770.8955 - val_mse: 9770.8955\n",
      "Epoch 15/15\n",
      "4/4 [==============================] - 4s 1s/step - loss: 6832.3696 - mse: 6832.3691 - val_loss: 9729.9346 - val_mse: 9729.9346\n"
     ]
    },
    {
     "name": "stderr",
     "output_type": "stream",
     "text": [
      "WARNING:absl:Found untraced functions such as _jit_compiled_convolution_op, _jit_compiled_convolution_op, _jit_compiled_convolution_op, _jit_compiled_convolution_op, _jit_compiled_convolution_op while saving (showing 5 of 13). These functions will not be directly callable after loading.\n"
     ]
    },
    {
     "name": "stdout",
     "output_type": "stream",
     "text": [
      "INFO:tensorflow:Assets written to: ../data/reconstruction_models/model_1/assets\n"
     ]
    },
    {
     "name": "stderr",
     "output_type": "stream",
     "text": [
      "INFO:tensorflow:Assets written to: ../data/reconstruction_models/model_1/assets\n"
     ]
    },
    {
     "name": "stdout",
     "output_type": "stream",
     "text": [
      "Epoch 1/15\n"
     ]
    },
    {
     "name": "stderr",
     "output_type": "stream",
     "text": [
      "2022-12-04 16:13:57.568694: I tensorflow/core/grappler/optimizers/custom_graph_optimizer_registry.cc:113] Plugin optimizer for device_type GPU is enabled.\n"
     ]
    },
    {
     "name": "stdout",
     "output_type": "stream",
     "text": [
      "4/4 [==============================] - ETA: 0s - loss: 8610.5664 - mse: 8610.5664"
     ]
    },
    {
     "name": "stderr",
     "output_type": "stream",
     "text": [
      "2022-12-04 16:14:01.569465: I tensorflow/core/grappler/optimizers/custom_graph_optimizer_registry.cc:113] Plugin optimizer for device_type GPU is enabled.\n"
     ]
    },
    {
     "name": "stdout",
     "output_type": "stream",
     "text": [
      "4/4 [==============================] - 5s 1s/step - loss: 8610.5664 - mse: 8610.5664 - val_loss: 10588.1260 - val_mse: 10588.1250\n",
      "Epoch 2/15\n",
      "4/4 [==============================] - 4s 1s/step - loss: 8490.1406 - mse: 8490.1406 - val_loss: 10573.9229 - val_mse: 10573.9229\n",
      "Epoch 3/15\n",
      "4/4 [==============================] - 4s 1s/step - loss: 8460.9688 - mse: 8460.9688 - val_loss: 10484.2100 - val_mse: 10484.2090\n",
      "Epoch 4/15\n",
      "4/4 [==============================] - 4s 1s/step - loss: 8420.3232 - mse: 8420.3223 - val_loss: 10475.2920 - val_mse: 10475.2910\n",
      "Epoch 5/15\n",
      "4/4 [==============================] - 4s 1s/step - loss: 8388.4805 - mse: 8388.4805 - val_loss: 10408.0420 - val_mse: 10408.0420\n",
      "Epoch 6/15\n",
      "4/4 [==============================] - 4s 1s/step - loss: 8351.1172 - mse: 8351.1152 - val_loss: 10388.6240 - val_mse: 10388.6230\n",
      "Epoch 7/15\n",
      "4/4 [==============================] - 4s 1s/step - loss: 8301.0283 - mse: 8301.0273 - val_loss: 10345.4072 - val_mse: 10345.4072\n",
      "Epoch 8/15\n",
      "4/4 [==============================] - 4s 1s/step - loss: 8223.5254 - mse: 8223.5244 - val_loss: 10373.7754 - val_mse: 10373.7744\n",
      "Epoch 9/15\n",
      "4/4 [==============================] - 4s 1s/step - loss: 8202.1006 - mse: 8202.1006 - val_loss: 10421.6777 - val_mse: 10421.6768\n",
      "Epoch 10/15\n",
      "4/4 [==============================] - 4s 1s/step - loss: 8100.1616 - mse: 8100.1616 - val_loss: 10295.2861 - val_mse: 10295.2852\n",
      "Epoch 11/15\n",
      "4/4 [==============================] - 4s 1s/step - loss: 8025.5464 - mse: 8025.5464 - val_loss: 10271.5771 - val_mse: 10271.5762\n",
      "Epoch 12/15\n",
      "4/4 [==============================] - 4s 1s/step - loss: 7892.0825 - mse: 7892.0820 - val_loss: 10328.9131 - val_mse: 10328.9121\n",
      "Epoch 13/15\n",
      "4/4 [==============================] - 4s 1s/step - loss: 7777.5562 - mse: 7777.5547 - val_loss: 10375.7490 - val_mse: 10375.7490\n",
      "Epoch 14/15\n",
      "4/4 [==============================] - 4s 1s/step - loss: 7610.1265 - mse: 7610.1265 - val_loss: 10374.2363 - val_mse: 10374.2354\n",
      "Epoch 15/15\n",
      "4/4 [==============================] - 4s 1s/step - loss: 7401.2368 - mse: 7401.2368 - val_loss: 10391.5410 - val_mse: 10391.5410\n"
     ]
    },
    {
     "name": "stderr",
     "output_type": "stream",
     "text": [
      "WARNING:absl:Found untraced functions such as _jit_compiled_convolution_op, _jit_compiled_convolution_op, _jit_compiled_convolution_op, _jit_compiled_convolution_op, _jit_compiled_convolution_op while saving (showing 5 of 13). These functions will not be directly callable after loading.\n"
     ]
    },
    {
     "name": "stdout",
     "output_type": "stream",
     "text": [
      "INFO:tensorflow:Assets written to: ../data/reconstruction_models/model_2/assets\n"
     ]
    },
    {
     "name": "stderr",
     "output_type": "stream",
     "text": [
      "INFO:tensorflow:Assets written to: ../data/reconstruction_models/model_2/assets\n"
     ]
    },
    {
     "name": "stdout",
     "output_type": "stream",
     "text": [
      "Epoch 1/15\n"
     ]
    },
    {
     "name": "stderr",
     "output_type": "stream",
     "text": [
      "2022-12-04 16:15:05.839510: I tensorflow/core/grappler/optimizers/custom_graph_optimizer_registry.cc:113] Plugin optimizer for device_type GPU is enabled.\n"
     ]
    },
    {
     "name": "stdout",
     "output_type": "stream",
     "text": [
      "4/4 [==============================] - ETA: 0s - loss: 4187.0591 - mse: 4187.0591"
     ]
    },
    {
     "name": "stderr",
     "output_type": "stream",
     "text": [
      "2022-12-04 16:15:09.781333: I tensorflow/core/grappler/optimizers/custom_graph_optimizer_registry.cc:113] Plugin optimizer for device_type GPU is enabled.\n"
     ]
    },
    {
     "name": "stdout",
     "output_type": "stream",
     "text": [
      "4/4 [==============================] - 5s 1s/step - loss: 4187.0591 - mse: 4187.0591 - val_loss: 5154.4590 - val_mse: 5154.4590\n",
      "Epoch 2/15\n",
      "4/4 [==============================] - 4s 1s/step - loss: 4199.3228 - mse: 4199.3228 - val_loss: 5024.0356 - val_mse: 5024.0352\n",
      "Epoch 3/15\n",
      "4/4 [==============================] - 4s 1s/step - loss: 4184.7832 - mse: 4184.7832 - val_loss: 5032.4751 - val_mse: 5032.4746\n",
      "Epoch 4/15\n",
      "4/4 [==============================] - 4s 1s/step - loss: 4184.4204 - mse: 4184.4204 - val_loss: 5015.3989 - val_mse: 5015.3984\n",
      "Epoch 5/15\n",
      "4/4 [==============================] - 4s 1s/step - loss: 4157.7119 - mse: 4157.7119 - val_loss: 5003.4658 - val_mse: 5003.4658\n",
      "Epoch 6/15\n",
      "4/4 [==============================] - 4s 1s/step - loss: 4138.1738 - mse: 4138.1738 - val_loss: 4964.3643 - val_mse: 4964.3633\n",
      "Epoch 7/15\n",
      "4/4 [==============================] - 4s 1s/step - loss: 4119.4937 - mse: 4119.4932 - val_loss: 4943.8193 - val_mse: 4943.8188\n",
      "Epoch 8/15\n",
      "4/4 [==============================] - 4s 1s/step - loss: 4095.0962 - mse: 4095.0962 - val_loss: 4931.5674 - val_mse: 4931.5669\n",
      "Epoch 9/15\n",
      "4/4 [==============================] - 4s 1s/step - loss: 4061.5220 - mse: 4061.5215 - val_loss: 4967.5527 - val_mse: 4967.5527\n",
      "Epoch 10/15\n",
      "4/4 [==============================] - 4s 1s/step - loss: 4044.3950 - mse: 4044.3950 - val_loss: 4923.4160 - val_mse: 4923.4160\n",
      "Epoch 11/15\n",
      "4/4 [==============================] - 4s 1s/step - loss: 4003.7827 - mse: 4003.7827 - val_loss: 4958.6172 - val_mse: 4958.6167\n",
      "Epoch 12/15\n",
      "4/4 [==============================] - 4s 1s/step - loss: 3922.2805 - mse: 3922.2805 - val_loss: 4892.2837 - val_mse: 4892.2837\n",
      "Epoch 13/15\n",
      "4/4 [==============================] - 4s 1s/step - loss: 3835.9705 - mse: 3835.9705 - val_loss: 5164.0063 - val_mse: 5164.0059\n",
      "Epoch 14/15\n",
      "4/4 [==============================] - 4s 1s/step - loss: 3741.2598 - mse: 3741.2598 - val_loss: 4906.9414 - val_mse: 4906.9414\n",
      "Epoch 15/15\n",
      "4/4 [==============================] - 4s 1s/step - loss: 3749.8098 - mse: 3749.8093 - val_loss: 5045.5493 - val_mse: 5045.5488\n"
     ]
    },
    {
     "name": "stderr",
     "output_type": "stream",
     "text": [
      "WARNING:absl:Found untraced functions such as _jit_compiled_convolution_op, _jit_compiled_convolution_op, _jit_compiled_convolution_op, _jit_compiled_convolution_op, _jit_compiled_convolution_op while saving (showing 5 of 13). These functions will not be directly callable after loading.\n"
     ]
    },
    {
     "name": "stdout",
     "output_type": "stream",
     "text": [
      "INFO:tensorflow:Assets written to: ../data/reconstruction_models/model_3/assets\n"
     ]
    },
    {
     "name": "stderr",
     "output_type": "stream",
     "text": [
      "INFO:tensorflow:Assets written to: ../data/reconstruction_models/model_3/assets\n"
     ]
    },
    {
     "name": "stdout",
     "output_type": "stream",
     "text": [
      "Epoch 1/15\n"
     ]
    },
    {
     "name": "stderr",
     "output_type": "stream",
     "text": [
      "2022-12-04 16:16:13.877905: I tensorflow/core/grappler/optimizers/custom_graph_optimizer_registry.cc:113] Plugin optimizer for device_type GPU is enabled.\n"
     ]
    },
    {
     "name": "stdout",
     "output_type": "stream",
     "text": [
      "4/4 [==============================] - ETA: 0s - loss: 2333.2217 - mse: 2333.2217"
     ]
    },
    {
     "name": "stderr",
     "output_type": "stream",
     "text": [
      "2022-12-04 16:16:17.818309: I tensorflow/core/grappler/optimizers/custom_graph_optimizer_registry.cc:113] Plugin optimizer for device_type GPU is enabled.\n"
     ]
    },
    {
     "name": "stdout",
     "output_type": "stream",
     "text": [
      "4/4 [==============================] - 5s 1s/step - loss: 2333.2217 - mse: 2333.2217 - val_loss: 1544.8754 - val_mse: 1544.8754\n",
      "Epoch 2/15\n",
      "4/4 [==============================] - 4s 1s/step - loss: 2323.7173 - mse: 2323.7173 - val_loss: 1538.3585 - val_mse: 1538.3585\n",
      "Epoch 3/15\n",
      "4/4 [==============================] - 4s 1s/step - loss: 2314.0410 - mse: 2314.0408 - val_loss: 1541.0959 - val_mse: 1541.0958\n",
      "Epoch 4/15\n",
      "4/4 [==============================] - 4s 1s/step - loss: 2299.6162 - mse: 2299.6162 - val_loss: 1528.6146 - val_mse: 1528.6145\n",
      "Epoch 5/15\n",
      "4/4 [==============================] - 4s 1s/step - loss: 2274.7122 - mse: 2274.7117 - val_loss: 1574.7057 - val_mse: 1574.7056\n",
      "Epoch 6/15\n",
      "4/4 [==============================] - 4s 1s/step - loss: 2245.3711 - mse: 2245.3711 - val_loss: 1534.2339 - val_mse: 1534.2339\n",
      "Epoch 7/15\n",
      "4/4 [==============================] - 4s 1s/step - loss: 2252.0117 - mse: 2252.0115 - val_loss: 1538.7876 - val_mse: 1538.7874\n",
      "Epoch 8/15\n",
      "4/4 [==============================] - 4s 1s/step - loss: 2211.3030 - mse: 2211.3027 - val_loss: 1571.6293 - val_mse: 1571.6293\n",
      "Epoch 9/15\n",
      "4/4 [==============================] - 4s 1s/step - loss: 1996.4495 - mse: 1996.4493 - val_loss: 1535.3004 - val_mse: 1535.3003\n",
      "Epoch 10/15\n",
      "4/4 [==============================] - 4s 1s/step - loss: 2124.7085 - mse: 2124.7085 - val_loss: 1528.6874 - val_mse: 1528.6873\n",
      "Epoch 11/15\n",
      "4/4 [==============================] - 4s 1s/step - loss: 2112.4541 - mse: 2112.4539 - val_loss: 1537.7748 - val_mse: 1537.7747\n",
      "Epoch 12/15\n",
      "4/4 [==============================] - 4s 1s/step - loss: 2269.4338 - mse: 2269.4338 - val_loss: 1535.5209 - val_mse: 1535.5208\n",
      "Epoch 13/15\n",
      "4/4 [==============================] - 4s 1s/step - loss: 2307.9924 - mse: 2307.9924 - val_loss: 1531.7047 - val_mse: 1531.7046\n",
      "Epoch 14/15\n",
      "4/4 [==============================] - 4s 1s/step - loss: 2307.3311 - mse: 2307.3311 - val_loss: 1527.1764 - val_mse: 1527.1763\n",
      "Epoch 15/15\n",
      "4/4 [==============================] - 4s 1s/step - loss: 2300.2898 - mse: 2300.2898 - val_loss: 1527.4501 - val_mse: 1527.4501\n"
     ]
    },
    {
     "name": "stderr",
     "output_type": "stream",
     "text": [
      "WARNING:absl:Found untraced functions such as _jit_compiled_convolution_op, _jit_compiled_convolution_op, _jit_compiled_convolution_op, _jit_compiled_convolution_op, _jit_compiled_convolution_op while saving (showing 5 of 13). These functions will not be directly callable after loading.\n"
     ]
    },
    {
     "name": "stdout",
     "output_type": "stream",
     "text": [
      "INFO:tensorflow:Assets written to: ../data/reconstruction_models/model_4/assets\n"
     ]
    },
    {
     "name": "stderr",
     "output_type": "stream",
     "text": [
      "INFO:tensorflow:Assets written to: ../data/reconstruction_models/model_4/assets\n"
     ]
    },
    {
     "name": "stdout",
     "output_type": "stream",
     "text": [
      "Epoch 1/15\n"
     ]
    },
    {
     "name": "stderr",
     "output_type": "stream",
     "text": [
      "2022-12-04 16:17:22.402548: I tensorflow/core/grappler/optimizers/custom_graph_optimizer_registry.cc:113] Plugin optimizer for device_type GPU is enabled.\n"
     ]
    },
    {
     "name": "stdout",
     "output_type": "stream",
     "text": [
      "4/4 [==============================] - ETA: 0s - loss: 590.9392 - mse: 590.9392"
     ]
    },
    {
     "name": "stderr",
     "output_type": "stream",
     "text": [
      "2022-12-04 16:17:26.402504: I tensorflow/core/grappler/optimizers/custom_graph_optimizer_registry.cc:113] Plugin optimizer for device_type GPU is enabled.\n"
     ]
    },
    {
     "name": "stdout",
     "output_type": "stream",
     "text": [
      "4/4 [==============================] - 5s 1s/step - loss: 590.9392 - mse: 590.9392 - val_loss: 364.7396 - val_mse: 364.7395\n",
      "Epoch 2/15\n",
      "4/4 [==============================] - 4s 1s/step - loss: 590.2009 - mse: 590.2009 - val_loss: 366.8410 - val_mse: 366.8410\n",
      "Epoch 3/15\n",
      "4/4 [==============================] - 4s 1s/step - loss: 590.8890 - mse: 590.8890 - val_loss: 366.5506 - val_mse: 366.5506\n",
      "Epoch 4/15\n",
      "4/4 [==============================] - 4s 1s/step - loss: 589.6126 - mse: 589.6125 - val_loss: 365.4106 - val_mse: 365.4106\n",
      "Epoch 5/15\n",
      "4/4 [==============================] - 4s 1s/step - loss: 586.8848 - mse: 586.8848 - val_loss: 363.6605 - val_mse: 363.6605\n",
      "Epoch 6/15\n",
      "4/4 [==============================] - 4s 1s/step - loss: 583.3167 - mse: 583.3167 - val_loss: 363.5052 - val_mse: 363.5052\n",
      "Epoch 7/15\n",
      "4/4 [==============================] - 4s 1s/step - loss: 570.8649 - mse: 570.8648 - val_loss: 365.6350 - val_mse: 365.6350\n",
      "Epoch 8/15\n",
      "4/4 [==============================] - 4s 1s/step - loss: 546.4368 - mse: 546.4368 - val_loss: 379.0810 - val_mse: 379.0810\n",
      "Epoch 9/15\n",
      "4/4 [==============================] - 4s 1s/step - loss: 530.6249 - mse: 530.6249 - val_loss: 362.2866 - val_mse: 362.2865\n",
      "Epoch 10/15\n",
      "4/4 [==============================] - 4s 1s/step - loss: 495.5143 - mse: 495.5142 - val_loss: 365.5530 - val_mse: 365.5530\n",
      "Epoch 11/15\n",
      "4/4 [==============================] - 4s 1s/step - loss: 501.1071 - mse: 501.1071 - val_loss: 362.1517 - val_mse: 362.1517\n",
      "Epoch 12/15\n",
      "4/4 [==============================] - 4s 1s/step - loss: 542.4553 - mse: 542.4553 - val_loss: 361.8879 - val_mse: 361.8879\n",
      "Epoch 13/15\n",
      "4/4 [==============================] - 4s 1s/step - loss: 534.4629 - mse: 534.4628 - val_loss: 368.0648 - val_mse: 368.0648\n",
      "Epoch 14/15\n",
      "4/4 [==============================] - 4s 1s/step - loss: 500.2114 - mse: 500.2114 - val_loss: 392.7068 - val_mse: 392.7067\n",
      "Epoch 15/15\n",
      "4/4 [==============================] - 4s 1s/step - loss: 451.7355 - mse: 451.7355 - val_loss: 396.1337 - val_mse: 396.1336\n"
     ]
    },
    {
     "name": "stderr",
     "output_type": "stream",
     "text": [
      "WARNING:absl:Found untraced functions such as _jit_compiled_convolution_op, _jit_compiled_convolution_op, _jit_compiled_convolution_op, _jit_compiled_convolution_op, _jit_compiled_convolution_op while saving (showing 5 of 13). These functions will not be directly callable after loading.\n"
     ]
    },
    {
     "name": "stdout",
     "output_type": "stream",
     "text": [
      "INFO:tensorflow:Assets written to: ../data/reconstruction_models/model_5/assets\n"
     ]
    },
    {
     "name": "stderr",
     "output_type": "stream",
     "text": [
      "INFO:tensorflow:Assets written to: ../data/reconstruction_models/model_5/assets\n"
     ]
    },
    {
     "name": "stdout",
     "output_type": "stream",
     "text": [
      "Epoch 1/15\n"
     ]
    },
    {
     "name": "stderr",
     "output_type": "stream",
     "text": [
      "2022-12-04 16:18:31.094563: I tensorflow/core/grappler/optimizers/custom_graph_optimizer_registry.cc:113] Plugin optimizer for device_type GPU is enabled.\n"
     ]
    },
    {
     "name": "stdout",
     "output_type": "stream",
     "text": [
      "4/4 [==============================] - ETA: 0s - loss: 89.3671 - mse: 89.3671"
     ]
    },
    {
     "name": "stderr",
     "output_type": "stream",
     "text": [
      "2022-12-04 16:18:35.140804: I tensorflow/core/grappler/optimizers/custom_graph_optimizer_registry.cc:113] Plugin optimizer for device_type GPU is enabled.\n"
     ]
    },
    {
     "name": "stdout",
     "output_type": "stream",
     "text": [
      "4/4 [==============================] - 5s 1s/step - loss: 89.3671 - mse: 89.3671 - val_loss: 74.5311 - val_mse: 74.5311\n",
      "Epoch 2/15\n",
      "4/4 [==============================] - 4s 1s/step - loss: 89.0119 - mse: 89.0119 - val_loss: 75.0524 - val_mse: 75.0524\n",
      "Epoch 3/15\n",
      "4/4 [==============================] - 4s 1s/step - loss: 89.2827 - mse: 89.2826 - val_loss: 75.0291 - val_mse: 75.0291\n",
      "Epoch 4/15\n",
      "4/4 [==============================] - 4s 1s/step - loss: 89.2238 - mse: 89.2238 - val_loss: 74.8194 - val_mse: 74.8194\n",
      "Epoch 5/15\n",
      "4/4 [==============================] - 4s 1s/step - loss: 89.0167 - mse: 89.0167 - val_loss: 74.6471 - val_mse: 74.6471\n",
      "Epoch 6/15\n",
      "4/4 [==============================] - 4s 1s/step - loss: 88.8739 - mse: 88.8739 - val_loss: 74.5536 - val_mse: 74.5536\n",
      "Epoch 7/15\n",
      "4/4 [==============================] - 4s 1s/step - loss: 88.6903 - mse: 88.6903 - val_loss: 74.6960 - val_mse: 74.6960\n",
      "Epoch 8/15\n",
      "4/4 [==============================] - 4s 1s/step - loss: 88.5279 - mse: 88.5279 - val_loss: 74.5740 - val_mse: 74.5740\n",
      "Epoch 9/15\n",
      "4/4 [==============================] - 4s 1s/step - loss: 88.2589 - mse: 88.2589 - val_loss: 74.7787 - val_mse: 74.7787\n",
      "Epoch 10/15\n",
      "4/4 [==============================] - 4s 1s/step - loss: 87.9374 - mse: 87.9374 - val_loss: 75.6475 - val_mse: 75.6475\n",
      "Epoch 11/15\n",
      "4/4 [==============================] - 4s 1s/step - loss: 87.7031 - mse: 87.7031 - val_loss: 74.6635 - val_mse: 74.6635\n",
      "Epoch 12/15\n",
      "4/4 [==============================] - 4s 1s/step - loss: 86.8663 - mse: 86.8663 - val_loss: 75.1192 - val_mse: 75.1192\n",
      "Epoch 13/15\n",
      "4/4 [==============================] - 4s 1s/step - loss: 84.8455 - mse: 84.8455 - val_loss: 77.2221 - val_mse: 77.2221\n",
      "Epoch 14/15\n",
      "4/4 [==============================] - 4s 1s/step - loss: 83.5641 - mse: 83.5641 - val_loss: 75.2589 - val_mse: 75.2589\n",
      "Epoch 15/15\n",
      "4/4 [==============================] - 4s 1s/step - loss: 82.5838 - mse: 82.5838 - val_loss: 74.9945 - val_mse: 74.9945\n"
     ]
    },
    {
     "name": "stderr",
     "output_type": "stream",
     "text": [
      "WARNING:absl:Found untraced functions such as _jit_compiled_convolution_op, _jit_compiled_convolution_op, _jit_compiled_convolution_op, _jit_compiled_convolution_op, _jit_compiled_convolution_op while saving (showing 5 of 13). These functions will not be directly callable after loading.\n"
     ]
    },
    {
     "name": "stdout",
     "output_type": "stream",
     "text": [
      "INFO:tensorflow:Assets written to: ../data/reconstruction_models/model_6/assets\n"
     ]
    },
    {
     "name": "stderr",
     "output_type": "stream",
     "text": [
      "INFO:tensorflow:Assets written to: ../data/reconstruction_models/model_6/assets\n"
     ]
    },
    {
     "name": "stdout",
     "output_type": "stream",
     "text": [
      "Epoch 1/15\n"
     ]
    },
    {
     "name": "stderr",
     "output_type": "stream",
     "text": [
      "2022-12-04 16:19:39.745354: I tensorflow/core/grappler/optimizers/custom_graph_optimizer_registry.cc:113] Plugin optimizer for device_type GPU is enabled.\n"
     ]
    },
    {
     "name": "stdout",
     "output_type": "stream",
     "text": [
      "4/4 [==============================] - ETA: 0s - loss: 20.9959 - mse: 20.9959"
     ]
    },
    {
     "name": "stderr",
     "output_type": "stream",
     "text": [
      "2022-12-04 16:19:43.790827: I tensorflow/core/grappler/optimizers/custom_graph_optimizer_registry.cc:113] Plugin optimizer for device_type GPU is enabled.\n"
     ]
    },
    {
     "name": "stdout",
     "output_type": "stream",
     "text": [
      "4/4 [==============================] - 5s 1s/step - loss: 20.9959 - mse: 20.9959 - val_loss: 31.7681 - val_mse: 31.7681\n",
      "Epoch 2/15\n",
      "4/4 [==============================] - 4s 1s/step - loss: 20.7697 - mse: 20.7697 - val_loss: 32.0362 - val_mse: 32.0362\n",
      "Epoch 3/15\n",
      "4/4 [==============================] - 4s 1s/step - loss: 20.8730 - mse: 20.8730 - val_loss: 32.0230 - val_mse: 32.0230\n",
      "Epoch 4/15\n",
      "4/4 [==============================] - 4s 1s/step - loss: 20.8457 - mse: 20.8457 - val_loss: 31.9123 - val_mse: 31.9123\n",
      "Epoch 5/15\n",
      "4/4 [==============================] - 4s 1s/step - loss: 20.7653 - mse: 20.7653 - val_loss: 31.8542 - val_mse: 31.8542\n",
      "Epoch 6/15\n",
      "4/4 [==============================] - 4s 1s/step - loss: 20.7223 - mse: 20.7223 - val_loss: 31.8511 - val_mse: 31.8511\n",
      "Epoch 7/15\n",
      "4/4 [==============================] - 4s 1s/step - loss: 20.6944 - mse: 20.6944 - val_loss: 31.7726 - val_mse: 31.7726\n",
      "Epoch 8/15\n",
      "4/4 [==============================] - 4s 1s/step - loss: 20.6164 - mse: 20.6164 - val_loss: 31.6709 - val_mse: 31.6709\n",
      "Epoch 9/15\n",
      "4/4 [==============================] - 4s 1s/step - loss: 20.5296 - mse: 20.5296 - val_loss: 31.6538 - val_mse: 31.6538\n",
      "Epoch 10/15\n",
      "4/4 [==============================] - 4s 1s/step - loss: 20.5001 - mse: 20.5001 - val_loss: 31.6822 - val_mse: 31.6822\n",
      "Epoch 11/15\n",
      "4/4 [==============================] - 4s 1s/step - loss: 20.4216 - mse: 20.4216 - val_loss: 31.6653 - val_mse: 31.6653\n",
      "Epoch 12/15\n",
      "4/4 [==============================] - 4s 1s/step - loss: 20.3399 - mse: 20.3399 - val_loss: 31.6711 - val_mse: 31.6711\n",
      "Epoch 13/15\n",
      "4/4 [==============================] - 4s 1s/step - loss: 20.2598 - mse: 20.2598 - val_loss: 31.7019 - val_mse: 31.7019\n",
      "Epoch 14/15\n",
      "4/4 [==============================] - 4s 1s/step - loss: 20.1865 - mse: 20.1865 - val_loss: 31.9609 - val_mse: 31.9609\n",
      "Epoch 15/15\n",
      "4/4 [==============================] - 4s 1s/step - loss: 19.9312 - mse: 19.9312 - val_loss: 31.7069 - val_mse: 31.7069\n"
     ]
    },
    {
     "name": "stderr",
     "output_type": "stream",
     "text": [
      "WARNING:absl:Found untraced functions such as _jit_compiled_convolution_op, _jit_compiled_convolution_op, _jit_compiled_convolution_op, _jit_compiled_convolution_op, _jit_compiled_convolution_op while saving (showing 5 of 13). These functions will not be directly callable after loading.\n"
     ]
    },
    {
     "name": "stdout",
     "output_type": "stream",
     "text": [
      "INFO:tensorflow:Assets written to: ../data/reconstruction_models/model_7/assets\n"
     ]
    },
    {
     "name": "stderr",
     "output_type": "stream",
     "text": [
      "INFO:tensorflow:Assets written to: ../data/reconstruction_models/model_7/assets\n"
     ]
    },
    {
     "name": "stdout",
     "output_type": "stream",
     "text": [
      "Epoch 1/15\n"
     ]
    },
    {
     "name": "stderr",
     "output_type": "stream",
     "text": [
      "2022-12-04 16:20:47.922239: I tensorflow/core/grappler/optimizers/custom_graph_optimizer_registry.cc:113] Plugin optimizer for device_type GPU is enabled.\n"
     ]
    },
    {
     "name": "stdout",
     "output_type": "stream",
     "text": [
      "4/4 [==============================] - ETA: 0s - loss: 13.4859 - mse: 13.4859"
     ]
    },
    {
     "name": "stderr",
     "output_type": "stream",
     "text": [
      "2022-12-04 16:20:51.903109: I tensorflow/core/grappler/optimizers/custom_graph_optimizer_registry.cc:113] Plugin optimizer for device_type GPU is enabled.\n"
     ]
    },
    {
     "name": "stdout",
     "output_type": "stream",
     "text": [
      "4/4 [==============================] - 5s 1s/step - loss: 13.4859 - mse: 13.4859 - val_loss: 19.5248 - val_mse: 19.5248\n",
      "Epoch 2/15\n",
      "4/4 [==============================] - 4s 1s/step - loss: 13.3984 - mse: 13.3984 - val_loss: 19.7120 - val_mse: 19.7120\n",
      "Epoch 3/15\n",
      "4/4 [==============================] - 4s 1s/step - loss: 13.3787 - mse: 13.3787 - val_loss: 19.5412 - val_mse: 19.5412\n",
      "Epoch 4/15\n",
      "4/4 [==============================] - 4s 1s/step - loss: 13.3701 - mse: 13.3701 - val_loss: 19.4243 - val_mse: 19.4243\n",
      "Epoch 5/15\n",
      "4/4 [==============================] - 4s 1s/step - loss: 13.1480 - mse: 13.1480 - val_loss: 19.4026 - val_mse: 19.4026\n",
      "Epoch 6/15\n",
      "4/4 [==============================] - 4s 1s/step - loss: 12.8809 - mse: 12.8809 - val_loss: 19.4678 - val_mse: 19.4678\n",
      "Epoch 7/15\n",
      "4/4 [==============================] - 4s 1s/step - loss: 12.5207 - mse: 12.5207 - val_loss: 19.4373 - val_mse: 19.4373\n",
      "Epoch 8/15\n",
      "4/4 [==============================] - 4s 1s/step - loss: 12.0911 - mse: 12.0911 - val_loss: 19.6043 - val_mse: 19.6043\n",
      "Epoch 9/15\n",
      "4/4 [==============================] - 4s 1s/step - loss: 11.7524 - mse: 11.7524 - val_loss: 19.5255 - val_mse: 19.5255\n",
      "Epoch 10/15\n",
      "4/4 [==============================] - 4s 1s/step - loss: 11.4396 - mse: 11.4396 - val_loss: 19.6670 - val_mse: 19.6670\n",
      "Epoch 11/15\n",
      "4/4 [==============================] - 4s 1s/step - loss: 11.0228 - mse: 11.0228 - val_loss: 20.6224 - val_mse: 20.6224\n",
      "Epoch 12/15\n",
      "4/4 [==============================] - 4s 1s/step - loss: 10.8363 - mse: 10.8363 - val_loss: 19.7561 - val_mse: 19.7561\n",
      "Epoch 13/15\n",
      "4/4 [==============================] - 4s 1s/step - loss: 9.8307 - mse: 9.8307 - val_loss: 22.9825 - val_mse: 22.9825\n",
      "Epoch 14/15\n",
      "4/4 [==============================] - 4s 1s/step - loss: 10.8382 - mse: 10.8382 - val_loss: 19.7452 - val_mse: 19.7452\n",
      "Epoch 15/15\n",
      "4/4 [==============================] - 4s 1s/step - loss: 11.3651 - mse: 11.3651 - val_loss: 19.5439 - val_mse: 19.5439\n"
     ]
    },
    {
     "name": "stderr",
     "output_type": "stream",
     "text": [
      "WARNING:absl:Found untraced functions such as _jit_compiled_convolution_op, _jit_compiled_convolution_op, _jit_compiled_convolution_op, _jit_compiled_convolution_op, _jit_compiled_convolution_op while saving (showing 5 of 13). These functions will not be directly callable after loading.\n"
     ]
    },
    {
     "name": "stdout",
     "output_type": "stream",
     "text": [
      "INFO:tensorflow:Assets written to: ../data/reconstruction_models/model_8/assets\n"
     ]
    },
    {
     "name": "stderr",
     "output_type": "stream",
     "text": [
      "INFO:tensorflow:Assets written to: ../data/reconstruction_models/model_8/assets\n"
     ]
    },
    {
     "name": "stdout",
     "output_type": "stream",
     "text": [
      "Epoch 1/15\n"
     ]
    },
    {
     "name": "stderr",
     "output_type": "stream",
     "text": [
      "2022-12-04 16:21:56.752724: I tensorflow/core/grappler/optimizers/custom_graph_optimizer_registry.cc:113] Plugin optimizer for device_type GPU is enabled.\n"
     ]
    },
    {
     "name": "stdout",
     "output_type": "stream",
     "text": [
      "4/4 [==============================] - ETA: 0s - loss: 5.9909 - mse: 5.9909"
     ]
    },
    {
     "name": "stderr",
     "output_type": "stream",
     "text": [
      "2022-12-04 16:22:00.823960: I tensorflow/core/grappler/optimizers/custom_graph_optimizer_registry.cc:113] Plugin optimizer for device_type GPU is enabled.\n"
     ]
    },
    {
     "name": "stdout",
     "output_type": "stream",
     "text": [
      "4/4 [==============================] - 5s 1s/step - loss: 5.9909 - mse: 5.9909 - val_loss: 4.1213 - val_mse: 4.1213\n",
      "Epoch 2/15\n",
      "4/4 [==============================] - 4s 1s/step - loss: 5.9683 - mse: 5.9682 - val_loss: 4.1556 - val_mse: 4.1556\n",
      "Epoch 3/15\n",
      "4/4 [==============================] - 4s 1s/step - loss: 5.9807 - mse: 5.9807 - val_loss: 4.1521 - val_mse: 4.1521\n",
      "Epoch 4/15\n",
      "4/4 [==============================] - 4s 1s/step - loss: 5.9731 - mse: 5.9731 - val_loss: 4.1316 - val_mse: 4.1316\n",
      "Epoch 5/15\n",
      "4/4 [==============================] - 4s 1s/step - loss: 5.9644 - mse: 5.9644 - val_loss: 4.1266 - val_mse: 4.1266\n",
      "Epoch 6/15\n",
      "4/4 [==============================] - 4s 1s/step - loss: 5.9518 - mse: 5.9518 - val_loss: 4.1129 - val_mse: 4.1129\n",
      "Epoch 7/15\n",
      "4/4 [==============================] - 4s 1s/step - loss: 5.9352 - mse: 5.9352 - val_loss: 4.1064 - val_mse: 4.1064\n",
      "Epoch 8/15\n",
      "4/4 [==============================] - 4s 1s/step - loss: 5.9216 - mse: 5.9216 - val_loss: 4.1007 - val_mse: 4.1007\n",
      "Epoch 9/15\n",
      "4/4 [==============================] - 4s 1s/step - loss: 5.8893 - mse: 5.8893 - val_loss: 4.1284 - val_mse: 4.1284\n",
      "Epoch 10/15\n",
      "4/4 [==============================] - 4s 1s/step - loss: 5.8479 - mse: 5.8479 - val_loss: 4.0960 - val_mse: 4.0960\n",
      "Epoch 11/15\n",
      "4/4 [==============================] - 4s 1s/step - loss: 5.7847 - mse: 5.7847 - val_loss: 4.1246 - val_mse: 4.1246\n",
      "Epoch 12/15\n",
      "4/4 [==============================] - 4s 1s/step - loss: 5.6893 - mse: 5.6893 - val_loss: 4.1142 - val_mse: 4.1142\n",
      "Epoch 13/15\n",
      "4/4 [==============================] - 4s 1s/step - loss: 5.4636 - mse: 5.4636 - val_loss: 4.1604 - val_mse: 4.1604\n",
      "Epoch 14/15\n",
      "4/4 [==============================] - 4s 1s/step - loss: 5.3040 - mse: 5.3040 - val_loss: 4.1145 - val_mse: 4.1145\n",
      "Epoch 15/15\n",
      "4/4 [==============================] - 4s 1s/step - loss: 4.7240 - mse: 4.7240 - val_loss: 4.5847 - val_mse: 4.5847\n"
     ]
    },
    {
     "name": "stderr",
     "output_type": "stream",
     "text": [
      "WARNING:absl:Found untraced functions such as _jit_compiled_convolution_op, _jit_compiled_convolution_op, _jit_compiled_convolution_op, _jit_compiled_convolution_op, _jit_compiled_convolution_op while saving (showing 5 of 13). These functions will not be directly callable after loading.\n"
     ]
    },
    {
     "name": "stdout",
     "output_type": "stream",
     "text": [
      "INFO:tensorflow:Assets written to: ../data/reconstruction_models/model_9/assets\n"
     ]
    },
    {
     "name": "stderr",
     "output_type": "stream",
     "text": [
      "INFO:tensorflow:Assets written to: ../data/reconstruction_models/model_9/assets\n"
     ]
    },
    {
     "name": "stdout",
     "output_type": "stream",
     "text": [
      "Epoch 1/15\n"
     ]
    },
    {
     "name": "stderr",
     "output_type": "stream",
     "text": [
      "2022-12-04 16:23:05.920180: I tensorflow/core/grappler/optimizers/custom_graph_optimizer_registry.cc:113] Plugin optimizer for device_type GPU is enabled.\n"
     ]
    },
    {
     "name": "stdout",
     "output_type": "stream",
     "text": [
      "4/4 [==============================] - ETA: 0s - loss: 2.2943 - mse: 2.2943"
     ]
    },
    {
     "name": "stderr",
     "output_type": "stream",
     "text": [
      "2022-12-04 16:23:09.994453: I tensorflow/core/grappler/optimizers/custom_graph_optimizer_registry.cc:113] Plugin optimizer for device_type GPU is enabled.\n"
     ]
    },
    {
     "name": "stdout",
     "output_type": "stream",
     "text": [
      "4/4 [==============================] - 5s 1s/step - loss: 2.2943 - mse: 2.2943 - val_loss: 1.3041 - val_mse: 1.3041\n",
      "Epoch 2/15\n",
      "4/4 [==============================] - 4s 1s/step - loss: 2.2748 - mse: 2.2748 - val_loss: 1.2925 - val_mse: 1.2925\n",
      "Epoch 3/15\n",
      "4/4 [==============================] - 4s 1s/step - loss: 2.2571 - mse: 2.2571 - val_loss: 1.2910 - val_mse: 1.2910\n",
      "Epoch 4/15\n",
      "4/4 [==============================] - 4s 1s/step - loss: 2.2219 - mse: 2.2219 - val_loss: 1.2953 - val_mse: 1.2953\n",
      "Epoch 5/15\n",
      "4/4 [==============================] - 4s 1s/step - loss: 2.1053 - mse: 2.1053 - val_loss: 1.3202 - val_mse: 1.3202\n",
      "Epoch 6/15\n",
      "4/4 [==============================] - 4s 1s/step - loss: 1.9987 - mse: 1.9987 - val_loss: 1.3084 - val_mse: 1.3084\n",
      "Epoch 7/15\n",
      "4/4 [==============================] - 4s 1s/step - loss: 1.8136 - mse: 1.8136 - val_loss: 1.4351 - val_mse: 1.4351\n",
      "Epoch 8/15\n",
      "4/4 [==============================] - 4s 1s/step - loss: 1.6546 - mse: 1.6546 - val_loss: 1.3152 - val_mse: 1.3152\n",
      "Epoch 9/15\n",
      "4/4 [==============================] - 4s 1s/step - loss: 2.1123 - mse: 2.1123 - val_loss: 1.2962 - val_mse: 1.2962\n",
      "Epoch 10/15\n",
      "4/4 [==============================] - 5s 1s/step - loss: 2.1365 - mse: 2.1365 - val_loss: 1.2997 - val_mse: 1.2997\n",
      "Epoch 11/15\n",
      "4/4 [==============================] - 4s 1s/step - loss: 2.0293 - mse: 2.0293 - val_loss: 1.3703 - val_mse: 1.3703\n",
      "Epoch 12/15\n",
      "4/4 [==============================] - 4s 1s/step - loss: 1.6439 - mse: 1.6439 - val_loss: 1.4488 - val_mse: 1.4488\n",
      "Epoch 13/15\n",
      "4/4 [==============================] - 4s 1s/step - loss: 1.2991 - mse: 1.2991 - val_loss: 1.3385 - val_mse: 1.3385\n",
      "Epoch 14/15\n",
      "4/4 [==============================] - 4s 1s/step - loss: 1.2213 - mse: 1.2213 - val_loss: 1.3069 - val_mse: 1.3069\n",
      "Epoch 15/15\n",
      "4/4 [==============================] - 4s 1s/step - loss: 1.0876 - mse: 1.0876 - val_loss: 1.3070 - val_mse: 1.3070\n"
     ]
    },
    {
     "name": "stderr",
     "output_type": "stream",
     "text": [
      "WARNING:absl:Found untraced functions such as _jit_compiled_convolution_op, _jit_compiled_convolution_op, _jit_compiled_convolution_op, _jit_compiled_convolution_op, _jit_compiled_convolution_op while saving (showing 5 of 13). These functions will not be directly callable after loading.\n"
     ]
    },
    {
     "name": "stdout",
     "output_type": "stream",
     "text": [
      "INFO:tensorflow:Assets written to: ../data/reconstruction_models/model_10/assets\n"
     ]
    },
    {
     "name": "stderr",
     "output_type": "stream",
     "text": [
      "INFO:tensorflow:Assets written to: ../data/reconstruction_models/model_10/assets\n"
     ]
    },
    {
     "name": "stdout",
     "output_type": "stream",
     "text": [
      "Epoch 1/15\n"
     ]
    },
    {
     "name": "stderr",
     "output_type": "stream",
     "text": [
      "2022-12-04 16:24:16.653851: I tensorflow/core/grappler/optimizers/custom_graph_optimizer_registry.cc:113] Plugin optimizer for device_type GPU is enabled.\n"
     ]
    },
    {
     "name": "stdout",
     "output_type": "stream",
     "text": [
      "4/4 [==============================] - ETA: 0s - loss: 0.4411 - mse: 0.4411"
     ]
    },
    {
     "name": "stderr",
     "output_type": "stream",
     "text": [
      "2022-12-04 16:24:20.938865: I tensorflow/core/grappler/optimizers/custom_graph_optimizer_registry.cc:113] Plugin optimizer for device_type GPU is enabled.\n"
     ]
    },
    {
     "name": "stdout",
     "output_type": "stream",
     "text": [
      "4/4 [==============================] - 5s 1s/step - loss: 0.4411 - mse: 0.4411 - val_loss: 0.5488 - val_mse: 0.5488\n",
      "Epoch 2/15\n",
      "4/4 [==============================] - 5s 1s/step - loss: 0.4388 - mse: 0.4388 - val_loss: 0.5481 - val_mse: 0.5481\n",
      "Epoch 3/15\n",
      "4/4 [==============================] - 4s 1s/step - loss: 0.4376 - mse: 0.4376 - val_loss: 0.5470 - val_mse: 0.5470\n",
      "Epoch 4/15\n",
      "4/4 [==============================] - 5s 1s/step - loss: 0.4327 - mse: 0.4327 - val_loss: 0.5444 - val_mse: 0.5444\n",
      "Epoch 5/15\n",
      "4/4 [==============================] - 4s 1s/step - loss: 0.4203 - mse: 0.4203 - val_loss: 0.5756 - val_mse: 0.5756\n",
      "Epoch 6/15\n",
      "4/4 [==============================] - 4s 1s/step - loss: 0.4024 - mse: 0.4024 - val_loss: 0.5448 - val_mse: 0.5448\n",
      "Epoch 7/15\n",
      "4/4 [==============================] - 4s 1s/step - loss: 0.3583 - mse: 0.3583 - val_loss: 0.5602 - val_mse: 0.5602\n",
      "Epoch 8/15\n",
      "4/4 [==============================] - 4s 1s/step - loss: 0.5628 - mse: 0.5628 - val_loss: 0.5462 - val_mse: 0.5462\n",
      "Epoch 9/15\n",
      "4/4 [==============================] - 5s 1s/step - loss: 0.3156 - mse: 0.3156 - val_loss: 0.5444 - val_mse: 0.5444\n",
      "Epoch 10/15\n",
      "4/4 [==============================] - 4s 1s/step - loss: 0.4244 - mse: 0.4244 - val_loss: 0.5465 - val_mse: 0.5465\n",
      "Epoch 11/15\n",
      "4/4 [==============================] - 4s 1s/step - loss: 0.4336 - mse: 0.4336 - val_loss: 0.5473 - val_mse: 0.5473\n",
      "Epoch 12/15\n",
      "4/4 [==============================] - 4s 1s/step - loss: 0.4359 - mse: 0.4359 - val_loss: 0.5474 - val_mse: 0.5474\n",
      "Epoch 13/15\n",
      "4/4 [==============================] - 4s 1s/step - loss: 0.4359 - mse: 0.4359 - val_loss: 0.5468 - val_mse: 0.5468\n",
      "Epoch 14/15\n",
      "4/4 [==============================] - 4s 1s/step - loss: 0.4347 - mse: 0.4347 - val_loss: 0.5454 - val_mse: 0.5454\n",
      "Epoch 15/15\n",
      "4/4 [==============================] - 4s 1s/step - loss: 0.4322 - mse: 0.4322 - val_loss: 0.5442 - val_mse: 0.5442\n"
     ]
    },
    {
     "name": "stderr",
     "output_type": "stream",
     "text": [
      "WARNING:absl:Found untraced functions such as _jit_compiled_convolution_op, _jit_compiled_convolution_op, _jit_compiled_convolution_op, _jit_compiled_convolution_op, _jit_compiled_convolution_op while saving (showing 5 of 13). These functions will not be directly callable after loading.\n"
     ]
    },
    {
     "name": "stdout",
     "output_type": "stream",
     "text": [
      "INFO:tensorflow:Assets written to: ../data/reconstruction_models/model_11/assets\n"
     ]
    },
    {
     "name": "stderr",
     "output_type": "stream",
     "text": [
      "INFO:tensorflow:Assets written to: ../data/reconstruction_models/model_11/assets\n"
     ]
    },
    {
     "name": "stdout",
     "output_type": "stream",
     "text": [
      "Epoch 1/15\n"
     ]
    },
    {
     "name": "stderr",
     "output_type": "stream",
     "text": [
      "2022-12-04 16:25:28.979153: I tensorflow/core/grappler/optimizers/custom_graph_optimizer_registry.cc:113] Plugin optimizer for device_type GPU is enabled.\n"
     ]
    },
    {
     "name": "stdout",
     "output_type": "stream",
     "text": [
      "4/4 [==============================] - ETA: 0s - loss: 0.1559 - mse: 0.1559"
     ]
    },
    {
     "name": "stderr",
     "output_type": "stream",
     "text": [
      "2022-12-04 16:25:33.094681: I tensorflow/core/grappler/optimizers/custom_graph_optimizer_registry.cc:113] Plugin optimizer for device_type GPU is enabled.\n"
     ]
    },
    {
     "name": "stdout",
     "output_type": "stream",
     "text": [
      "4/4 [==============================] - 5s 1s/step - loss: 0.1559 - mse: 0.1559 - val_loss: 0.2422 - val_mse: 0.2422\n",
      "Epoch 2/15\n",
      "4/4 [==============================] - 4s 1s/step - loss: 0.1547 - mse: 0.1547 - val_loss: 0.2418 - val_mse: 0.2418\n",
      "Epoch 3/15\n",
      "4/4 [==============================] - 4s 1s/step - loss: 0.1540 - mse: 0.1540 - val_loss: 0.2413 - val_mse: 0.2413\n",
      "Epoch 4/15\n",
      "4/4 [==============================] - 4s 1s/step - loss: 0.1524 - mse: 0.1524 - val_loss: 0.2406 - val_mse: 0.2406\n",
      "Epoch 5/15\n",
      "4/4 [==============================] - 4s 1s/step - loss: 0.1513 - mse: 0.1513 - val_loss: 0.2400 - val_mse: 0.2400\n",
      "Epoch 6/15\n",
      "4/4 [==============================] - 4s 1s/step - loss: 0.1464 - mse: 0.1464 - val_loss: 0.2410 - val_mse: 0.2410\n",
      "Epoch 7/15\n",
      "4/4 [==============================] - 4s 1s/step - loss: 0.1455 - mse: 0.1455 - val_loss: 0.2442 - val_mse: 0.2442\n",
      "Epoch 8/15\n",
      "4/4 [==============================] - 4s 1s/step - loss: 0.1383 - mse: 0.1383 - val_loss: 0.2410 - val_mse: 0.2410\n",
      "Epoch 9/15\n",
      "4/4 [==============================] - 4s 1s/step - loss: 0.1338 - mse: 0.1338 - val_loss: 0.2457 - val_mse: 0.2457\n",
      "Epoch 10/15\n",
      "4/4 [==============================] - 4s 1s/step - loss: 0.1264 - mse: 0.1264 - val_loss: 0.2394 - val_mse: 0.2394\n",
      "Epoch 11/15\n",
      "4/4 [==============================] - 4s 1s/step - loss: 0.1347 - mse: 0.1347 - val_loss: 0.2399 - val_mse: 0.2399\n",
      "Epoch 12/15\n",
      "4/4 [==============================] - 4s 1s/step - loss: 0.1461 - mse: 0.1461 - val_loss: 0.2396 - val_mse: 0.2396\n",
      "Epoch 13/15\n",
      "4/4 [==============================] - 4s 1s/step - loss: 0.1445 - mse: 0.1445 - val_loss: 0.2397 - val_mse: 0.2397\n",
      "Epoch 14/15\n",
      "4/4 [==============================] - 4s 1s/step - loss: 0.1385 - mse: 0.1385 - val_loss: 0.2393 - val_mse: 0.2393\n",
      "Epoch 15/15\n",
      "4/4 [==============================] - 4s 1s/step - loss: 0.1296 - mse: 0.1296 - val_loss: 0.2435 - val_mse: 0.2435\n"
     ]
    },
    {
     "name": "stderr",
     "output_type": "stream",
     "text": [
      "WARNING:absl:Found untraced functions such as _jit_compiled_convolution_op, _jit_compiled_convolution_op, _jit_compiled_convolution_op, _jit_compiled_convolution_op, _jit_compiled_convolution_op while saving (showing 5 of 13). These functions will not be directly callable after loading.\n"
     ]
    },
    {
     "name": "stdout",
     "output_type": "stream",
     "text": [
      "INFO:tensorflow:Assets written to: ../data/reconstruction_models/model_12/assets\n"
     ]
    },
    {
     "name": "stderr",
     "output_type": "stream",
     "text": [
      "INFO:tensorflow:Assets written to: ../data/reconstruction_models/model_12/assets\n"
     ]
    },
    {
     "name": "stdout",
     "output_type": "stream",
     "text": [
      "Epoch 1/15\n"
     ]
    },
    {
     "name": "stderr",
     "output_type": "stream",
     "text": [
      "2022-12-04 16:26:39.417050: I tensorflow/core/grappler/optimizers/custom_graph_optimizer_registry.cc:113] Plugin optimizer for device_type GPU is enabled.\n"
     ]
    },
    {
     "name": "stdout",
     "output_type": "stream",
     "text": [
      "4/4 [==============================] - ETA: 0s - loss: 0.0743 - mse: 0.0743"
     ]
    },
    {
     "name": "stderr",
     "output_type": "stream",
     "text": [
      "2022-12-04 16:26:43.631579: I tensorflow/core/grappler/optimizers/custom_graph_optimizer_registry.cc:113] Plugin optimizer for device_type GPU is enabled.\n"
     ]
    },
    {
     "name": "stdout",
     "output_type": "stream",
     "text": [
      "4/4 [==============================] - 5s 1s/step - loss: 0.0743 - mse: 0.0743 - val_loss: 0.0668 - val_mse: 0.0668\n",
      "Epoch 2/15\n",
      "4/4 [==============================] - 4s 1s/step - loss: 0.0739 - mse: 0.0739 - val_loss: 0.0666 - val_mse: 0.0666\n",
      "Epoch 3/15\n",
      "4/4 [==============================] - 4s 1s/step - loss: 0.0734 - mse: 0.0734 - val_loss: 0.0668 - val_mse: 0.0668\n",
      "Epoch 4/15\n",
      "4/4 [==============================] - 4s 1s/step - loss: 0.0729 - mse: 0.0729 - val_loss: 0.0678 - val_mse: 0.0678\n",
      "Epoch 5/15\n",
      "4/4 [==============================] - 4s 1s/step - loss: 0.0717 - mse: 0.0717 - val_loss: 0.0664 - val_mse: 0.0664\n",
      "Epoch 6/15\n",
      "4/4 [==============================] - 4s 1s/step - loss: 0.0693 - mse: 0.0693 - val_loss: 0.0666 - val_mse: 0.0666\n",
      "Epoch 7/15\n",
      "4/4 [==============================] - 4s 1s/step - loss: 0.0673 - mse: 0.0673 - val_loss: 0.0664 - val_mse: 0.0664\n",
      "Epoch 8/15\n",
      "4/4 [==============================] - 4s 1s/step - loss: 0.0681 - mse: 0.0681 - val_loss: 0.0694 - val_mse: 0.0694\n",
      "Epoch 9/15\n",
      "4/4 [==============================] - 4s 1s/step - loss: 0.0636 - mse: 0.0636 - val_loss: 0.0699 - val_mse: 0.0699\n",
      "Epoch 10/15\n",
      "4/4 [==============================] - 4s 1s/step - loss: 0.0564 - mse: 0.0564 - val_loss: 0.0746 - val_mse: 0.0746\n",
      "Epoch 11/15\n",
      "4/4 [==============================] - 4s 1s/step - loss: 0.0473 - mse: 0.0473 - val_loss: 0.0711 - val_mse: 0.0711\n",
      "Epoch 12/15\n",
      "4/4 [==============================] - 4s 1s/step - loss: 0.0450 - mse: 0.0450 - val_loss: 0.0739 - val_mse: 0.0739\n",
      "Epoch 13/15\n",
      "4/4 [==============================] - 4s 1s/step - loss: 0.0386 - mse: 0.0386 - val_loss: 0.0722 - val_mse: 0.0722\n",
      "Epoch 14/15\n",
      "4/4 [==============================] - 4s 1s/step - loss: 0.0346 - mse: 0.0346 - val_loss: 0.0738 - val_mse: 0.0738\n",
      "Epoch 15/15\n",
      "4/4 [==============================] - 4s 1s/step - loss: 0.0315 - mse: 0.0315 - val_loss: 0.0756 - val_mse: 0.0756\n"
     ]
    },
    {
     "name": "stderr",
     "output_type": "stream",
     "text": [
      "WARNING:absl:Found untraced functions such as _jit_compiled_convolution_op, _jit_compiled_convolution_op, _jit_compiled_convolution_op, _jit_compiled_convolution_op, _jit_compiled_convolution_op while saving (showing 5 of 13). These functions will not be directly callable after loading.\n"
     ]
    },
    {
     "name": "stdout",
     "output_type": "stream",
     "text": [
      "INFO:tensorflow:Assets written to: ../data/reconstruction_models/model_13/assets\n"
     ]
    },
    {
     "name": "stderr",
     "output_type": "stream",
     "text": [
      "INFO:tensorflow:Assets written to: ../data/reconstruction_models/model_13/assets\n"
     ]
    },
    {
     "name": "stdout",
     "output_type": "stream",
     "text": [
      "Epoch 1/15\n"
     ]
    },
    {
     "name": "stderr",
     "output_type": "stream",
     "text": [
      "2022-12-04 16:27:49.516520: I tensorflow/core/grappler/optimizers/custom_graph_optimizer_registry.cc:113] Plugin optimizer for device_type GPU is enabled.\n"
     ]
    },
    {
     "name": "stdout",
     "output_type": "stream",
     "text": [
      "4/4 [==============================] - ETA: 0s - loss: 0.0632 - mse: 0.0632"
     ]
    },
    {
     "name": "stderr",
     "output_type": "stream",
     "text": [
      "2022-12-04 16:27:53.599266: I tensorflow/core/grappler/optimizers/custom_graph_optimizer_registry.cc:113] Plugin optimizer for device_type GPU is enabled.\n"
     ]
    },
    {
     "name": "stdout",
     "output_type": "stream",
     "text": [
      "4/4 [==============================] - 5s 1s/step - loss: 0.0632 - mse: 0.0632 - val_loss: 0.0525 - val_mse: 0.0525\n",
      "Epoch 2/15\n",
      "4/4 [==============================] - 4s 1s/step - loss: 0.0630 - mse: 0.0630 - val_loss: 0.0525 - val_mse: 0.0525\n",
      "Epoch 3/15\n",
      "4/4 [==============================] - 4s 1s/step - loss: 0.0628 - mse: 0.0628 - val_loss: 0.0527 - val_mse: 0.0527\n",
      "Epoch 4/15\n",
      "4/4 [==============================] - 4s 1s/step - loss: 0.0627 - mse: 0.0627 - val_loss: 0.0525 - val_mse: 0.0525\n",
      "Epoch 5/15\n",
      "4/4 [==============================] - 4s 1s/step - loss: 0.0623 - mse: 0.0623 - val_loss: 0.0525 - val_mse: 0.0525\n",
      "Epoch 6/15\n",
      "4/4 [==============================] - 4s 1s/step - loss: 0.0614 - mse: 0.0614 - val_loss: 0.0525 - val_mse: 0.0525\n",
      "Epoch 7/15\n",
      "4/4 [==============================] - 4s 1s/step - loss: 0.0607 - mse: 0.0607 - val_loss: 0.0553 - val_mse: 0.0553\n",
      "Epoch 8/15\n",
      "4/4 [==============================] - 4s 1s/step - loss: 0.0589 - mse: 0.0589 - val_loss: 0.0543 - val_mse: 0.0543\n",
      "Epoch 9/15\n",
      "4/4 [==============================] - 4s 1s/step - loss: 0.0530 - mse: 0.0530 - val_loss: 0.0594 - val_mse: 0.0594\n",
      "Epoch 10/15\n",
      "4/4 [==============================] - 4s 1s/step - loss: 0.0441 - mse: 0.0441 - val_loss: 0.0534 - val_mse: 0.0534\n",
      "Epoch 11/15\n",
      "4/4 [==============================] - 4s 1s/step - loss: 0.0541 - mse: 0.0541 - val_loss: 0.0539 - val_mse: 0.0539\n",
      "Epoch 12/15\n",
      "4/4 [==============================] - 4s 1s/step - loss: 0.0522 - mse: 0.0522 - val_loss: 0.0578 - val_mse: 0.0578\n",
      "Epoch 13/15\n",
      "4/4 [==============================] - 4s 1s/step - loss: 0.0457 - mse: 0.0457 - val_loss: 0.0929 - val_mse: 0.0929\n",
      "Epoch 14/15\n",
      "4/4 [==============================] - 4s 1s/step - loss: 0.0565 - mse: 0.0565 - val_loss: 0.0527 - val_mse: 0.0527\n",
      "Epoch 15/15\n",
      "4/4 [==============================] - 4s 1s/step - loss: 0.0505 - mse: 0.0505 - val_loss: 0.0527 - val_mse: 0.0527\n"
     ]
    },
    {
     "name": "stderr",
     "output_type": "stream",
     "text": [
      "WARNING:absl:Found untraced functions such as _jit_compiled_convolution_op, _jit_compiled_convolution_op, _jit_compiled_convolution_op, _jit_compiled_convolution_op, _jit_compiled_convolution_op while saving (showing 5 of 13). These functions will not be directly callable after loading.\n"
     ]
    },
    {
     "name": "stdout",
     "output_type": "stream",
     "text": [
      "INFO:tensorflow:Assets written to: ../data/reconstruction_models/model_14/assets\n"
     ]
    },
    {
     "name": "stderr",
     "output_type": "stream",
     "text": [
      "INFO:tensorflow:Assets written to: ../data/reconstruction_models/model_14/assets\n"
     ]
    },
    {
     "name": "stdout",
     "output_type": "stream",
     "text": [
      "Epoch 1/15\n"
     ]
    },
    {
     "name": "stderr",
     "output_type": "stream",
     "text": [
      "2022-12-04 16:28:58.418655: I tensorflow/core/grappler/optimizers/custom_graph_optimizer_registry.cc:113] Plugin optimizer for device_type GPU is enabled.\n"
     ]
    },
    {
     "name": "stdout",
     "output_type": "stream",
     "text": [
      "4/4 [==============================] - ETA: 0s - loss: 0.0414 - mse: 0.0414"
     ]
    },
    {
     "name": "stderr",
     "output_type": "stream",
     "text": [
      "2022-12-04 16:29:02.428766: I tensorflow/core/grappler/optimizers/custom_graph_optimizer_registry.cc:113] Plugin optimizer for device_type GPU is enabled.\n"
     ]
    },
    {
     "name": "stdout",
     "output_type": "stream",
     "text": [
      "4/4 [==============================] - 5s 1s/step - loss: 0.0414 - mse: 0.0414 - val_loss: 0.0538 - val_mse: 0.0538\n",
      "Epoch 2/15\n",
      "4/4 [==============================] - 4s 1s/step - loss: 0.0413 - mse: 0.0413 - val_loss: 0.0538 - val_mse: 0.0538\n",
      "Epoch 3/15\n",
      "4/4 [==============================] - 4s 1s/step - loss: 0.0413 - mse: 0.0413 - val_loss: 0.0538 - val_mse: 0.0538\n",
      "Epoch 4/15\n",
      "4/4 [==============================] - 4s 1s/step - loss: 0.0412 - mse: 0.0412 - val_loss: 0.0538 - val_mse: 0.0538\n",
      "Epoch 5/15\n",
      "4/4 [==============================] - 4s 1s/step - loss: 0.0411 - mse: 0.0411 - val_loss: 0.0537 - val_mse: 0.0537\n",
      "Epoch 6/15\n",
      "4/4 [==============================] - 4s 1s/step - loss: 0.0410 - mse: 0.0410 - val_loss: 0.0538 - val_mse: 0.0538\n",
      "Epoch 7/15\n",
      "4/4 [==============================] - 4s 1s/step - loss: 0.0404 - mse: 0.0404 - val_loss: 0.0536 - val_mse: 0.0536\n",
      "Epoch 8/15\n",
      "4/4 [==============================] - 4s 1s/step - loss: 0.0397 - mse: 0.0397 - val_loss: 0.0538 - val_mse: 0.0538\n",
      "Epoch 9/15\n",
      "4/4 [==============================] - 4s 1s/step - loss: 0.0372 - mse: 0.0372 - val_loss: 0.0561 - val_mse: 0.0561\n",
      "Epoch 10/15\n",
      "4/4 [==============================] - 4s 1s/step - loss: 0.0341 - mse: 0.0341 - val_loss: 0.0754 - val_mse: 0.0754\n",
      "Epoch 11/15\n",
      "4/4 [==============================] - 4s 1s/step - loss: 0.0351 - mse: 0.0351 - val_loss: 0.0552 - val_mse: 0.0552\n",
      "Epoch 12/15\n",
      "4/4 [==============================] - 4s 1s/step - loss: 0.0305 - mse: 0.0305 - val_loss: 0.0656 - val_mse: 0.0656\n",
      "Epoch 13/15\n",
      "4/4 [==============================] - 4s 1s/step - loss: 0.0361 - mse: 0.0361 - val_loss: 0.0546 - val_mse: 0.0546\n",
      "Epoch 14/15\n",
      "4/4 [==============================] - 4s 1s/step - loss: 0.0299 - mse: 0.0299 - val_loss: 0.0538 - val_mse: 0.0538\n",
      "Epoch 15/15\n",
      "4/4 [==============================] - 4s 1s/step - loss: 0.0358 - mse: 0.0358 - val_loss: 0.0537 - val_mse: 0.0537\n"
     ]
    },
    {
     "name": "stderr",
     "output_type": "stream",
     "text": [
      "WARNING:absl:Found untraced functions such as _jit_compiled_convolution_op, _jit_compiled_convolution_op, _jit_compiled_convolution_op, _jit_compiled_convolution_op, _jit_compiled_convolution_op while saving (showing 5 of 13). These functions will not be directly callable after loading.\n"
     ]
    },
    {
     "name": "stdout",
     "output_type": "stream",
     "text": [
      "INFO:tensorflow:Assets written to: ../data/reconstruction_models/model_15/assets\n"
     ]
    },
    {
     "name": "stderr",
     "output_type": "stream",
     "text": [
      "INFO:tensorflow:Assets written to: ../data/reconstruction_models/model_15/assets\n"
     ]
    },
    {
     "name": "stdout",
     "output_type": "stream",
     "text": [
      "Epoch 1/15\n"
     ]
    },
    {
     "name": "stderr",
     "output_type": "stream",
     "text": [
      "2022-12-04 16:30:07.482472: I tensorflow/core/grappler/optimizers/custom_graph_optimizer_registry.cc:113] Plugin optimizer for device_type GPU is enabled.\n"
     ]
    },
    {
     "name": "stdout",
     "output_type": "stream",
     "text": [
      "4/4 [==============================] - ETA: 0s - loss: 3.2385e-04 - mse: 3.2385e-04"
     ]
    },
    {
     "name": "stderr",
     "output_type": "stream",
     "text": [
      "2022-12-04 16:30:11.510175: I tensorflow/core/grappler/optimizers/custom_graph_optimizer_registry.cc:113] Plugin optimizer for device_type GPU is enabled.\n"
     ]
    },
    {
     "name": "stdout",
     "output_type": "stream",
     "text": [
      "4/4 [==============================] - 5s 1s/step - loss: 3.2385e-04 - mse: 3.2385e-04 - val_loss: 0.0027 - val_mse: 0.0027\n",
      "Epoch 2/15\n",
      "4/4 [==============================] - 4s 1s/step - loss: 3.0684e-04 - mse: 3.0684e-04 - val_loss: 0.0027 - val_mse: 0.0027\n",
      "Epoch 3/15\n",
      "4/4 [==============================] - 4s 1s/step - loss: 3.0570e-04 - mse: 3.0570e-04 - val_loss: 0.0027 - val_mse: 0.0027\n",
      "Epoch 4/15\n",
      "4/4 [==============================] - 4s 1s/step - loss: 3.0547e-04 - mse: 3.0547e-04 - val_loss: 0.0027 - val_mse: 0.0027\n",
      "Epoch 5/15\n",
      "4/4 [==============================] - 4s 1s/step - loss: 3.0545e-04 - mse: 3.0545e-04 - val_loss: 0.0027 - val_mse: 0.0027\n",
      "Epoch 6/15\n",
      "4/4 [==============================] - 4s 1s/step - loss: 3.0533e-04 - mse: 3.0533e-04 - val_loss: 0.0027 - val_mse: 0.0027\n",
      "Epoch 7/15\n",
      "4/4 [==============================] - 4s 1s/step - loss: 3.0525e-04 - mse: 3.0525e-04 - val_loss: 0.0027 - val_mse: 0.0027\n",
      "Epoch 8/15\n",
      "4/4 [==============================] - 4s 1s/step - loss: 3.0523e-04 - mse: 3.0523e-04 - val_loss: 0.0027 - val_mse: 0.0027\n",
      "Epoch 9/15\n",
      "4/4 [==============================] - 4s 1s/step - loss: 3.0520e-04 - mse: 3.0520e-04 - val_loss: 0.0027 - val_mse: 0.0027\n",
      "Epoch 10/15\n",
      "4/4 [==============================] - 4s 1s/step - loss: 3.0520e-04 - mse: 3.0520e-04 - val_loss: 0.0027 - val_mse: 0.0027\n",
      "Epoch 11/15\n",
      "4/4 [==============================] - 4s 1s/step - loss: 3.0520e-04 - mse: 3.0520e-04 - val_loss: 0.0027 - val_mse: 0.0027\n",
      "Epoch 12/15\n",
      "4/4 [==============================] - 4s 1s/step - loss: 3.0518e-04 - mse: 3.0518e-04 - val_loss: 0.0027 - val_mse: 0.0027\n",
      "Epoch 13/15\n",
      "4/4 [==============================] - 4s 1s/step - loss: 3.0518e-04 - mse: 3.0518e-04 - val_loss: 0.0027 - val_mse: 0.0027\n",
      "Epoch 14/15\n",
      "4/4 [==============================] - 4s 1s/step - loss: 3.0517e-04 - mse: 3.0517e-04 - val_loss: 0.0027 - val_mse: 0.0027\n",
      "Epoch 15/15\n",
      "4/4 [==============================] - 4s 1s/step - loss: 3.0516e-04 - mse: 3.0516e-04 - val_loss: 0.0027 - val_mse: 0.0027\n"
     ]
    },
    {
     "name": "stderr",
     "output_type": "stream",
     "text": [
      "WARNING:absl:Found untraced functions such as _jit_compiled_convolution_op, _jit_compiled_convolution_op, _jit_compiled_convolution_op, _jit_compiled_convolution_op, _jit_compiled_convolution_op while saving (showing 5 of 13). These functions will not be directly callable after loading.\n"
     ]
    },
    {
     "name": "stdout",
     "output_type": "stream",
     "text": [
      "INFO:tensorflow:Assets written to: ../data/reconstruction_models/model_16/assets\n"
     ]
    },
    {
     "name": "stderr",
     "output_type": "stream",
     "text": [
      "INFO:tensorflow:Assets written to: ../data/reconstruction_models/model_16/assets\n"
     ]
    },
    {
     "name": "stdout",
     "output_type": "stream",
     "text": [
      "Epoch 1/15\n"
     ]
    },
    {
     "name": "stderr",
     "output_type": "stream",
     "text": [
      "2022-12-04 16:31:16.413039: I tensorflow/core/grappler/optimizers/custom_graph_optimizer_registry.cc:113] Plugin optimizer for device_type GPU is enabled.\n"
     ]
    },
    {
     "name": "stdout",
     "output_type": "stream",
     "text": [
      "4/4 [==============================] - ETA: 0s - loss: 6.5969e-05 - mse: 6.5969e-05"
     ]
    },
    {
     "name": "stderr",
     "output_type": "stream",
     "text": [
      "2022-12-04 16:31:20.481159: I tensorflow/core/grappler/optimizers/custom_graph_optimizer_registry.cc:113] Plugin optimizer for device_type GPU is enabled.\n"
     ]
    },
    {
     "name": "stdout",
     "output_type": "stream",
     "text": [
      "4/4 [==============================] - 5s 1s/step - loss: 6.5969e-05 - mse: 6.5969e-05 - val_loss: 1.2940e-04 - val_mse: 1.2940e-04\n",
      "Epoch 2/15\n",
      "4/4 [==============================] - 4s 1s/step - loss: 4.8810e-05 - mse: 4.8810e-05 - val_loss: 1.2781e-04 - val_mse: 1.2781e-04\n",
      "Epoch 3/15\n",
      "4/4 [==============================] - 4s 1s/step - loss: 4.7442e-05 - mse: 4.7442e-05 - val_loss: 1.2730e-04 - val_mse: 1.2730e-04\n",
      "Epoch 4/15\n",
      "4/4 [==============================] - 4s 1s/step - loss: 4.7175e-05 - mse: 4.7175e-05 - val_loss: 1.2735e-04 - val_mse: 1.2735e-04\n",
      "Epoch 5/15\n",
      "4/4 [==============================] - 4s 1s/step - loss: 4.7213e-05 - mse: 4.7213e-05 - val_loss: 1.2730e-04 - val_mse: 1.2730e-04\n",
      "Epoch 6/15\n",
      "4/4 [==============================] - 4s 1s/step - loss: 4.7127e-05 - mse: 4.7127e-05 - val_loss: 1.2720e-04 - val_mse: 1.2720e-04\n",
      "Epoch 7/15\n",
      "4/4 [==============================] - 4s 1s/step - loss: 4.7036e-05 - mse: 4.7036e-05 - val_loss: 1.2716e-04 - val_mse: 1.2716e-04\n",
      "Epoch 8/15\n",
      "4/4 [==============================] - 4s 1s/step - loss: 4.7005e-05 - mse: 4.7005e-05 - val_loss: 1.2713e-04 - val_mse: 1.2713e-04\n",
      "Epoch 9/15\n",
      "4/4 [==============================] - 4s 1s/step - loss: 4.6986e-05 - mse: 4.6986e-05 - val_loss: 1.2711e-04 - val_mse: 1.2711e-04\n",
      "Epoch 10/15\n",
      "4/4 [==============================] - 4s 1s/step - loss: 4.6974e-05 - mse: 4.6974e-05 - val_loss: 1.2710e-04 - val_mse: 1.2710e-04\n",
      "Epoch 11/15\n",
      "4/4 [==============================] - 4s 1s/step - loss: 4.6960e-05 - mse: 4.6960e-05 - val_loss: 1.2709e-04 - val_mse: 1.2709e-04\n",
      "Epoch 12/15\n",
      "4/4 [==============================] - 4s 1s/step - loss: 4.6951e-05 - mse: 4.6951e-05 - val_loss: 1.2708e-04 - val_mse: 1.2708e-04\n",
      "Epoch 13/15\n",
      "4/4 [==============================] - 4s 1s/step - loss: 4.6947e-05 - mse: 4.6947e-05 - val_loss: 1.2708e-04 - val_mse: 1.2708e-04\n",
      "Epoch 14/15\n",
      "4/4 [==============================] - 4s 1s/step - loss: 4.6945e-05 - mse: 4.6945e-05 - val_loss: 1.2708e-04 - val_mse: 1.2708e-04\n",
      "Epoch 15/15\n",
      "4/4 [==============================] - 4s 1s/step - loss: 4.6941e-05 - mse: 4.6941e-05 - val_loss: 1.2708e-04 - val_mse: 1.2708e-04\n"
     ]
    },
    {
     "name": "stderr",
     "output_type": "stream",
     "text": [
      "WARNING:absl:Found untraced functions such as _jit_compiled_convolution_op, _jit_compiled_convolution_op, _jit_compiled_convolution_op, _jit_compiled_convolution_op, _jit_compiled_convolution_op while saving (showing 5 of 13). These functions will not be directly callable after loading.\n"
     ]
    },
    {
     "name": "stdout",
     "output_type": "stream",
     "text": [
      "INFO:tensorflow:Assets written to: ../data/reconstruction_models/model_17/assets\n"
     ]
    },
    {
     "name": "stderr",
     "output_type": "stream",
     "text": [
      "INFO:tensorflow:Assets written to: ../data/reconstruction_models/model_17/assets\n"
     ]
    }
   ],
   "source": [
    "for i_nn in range(num_networks):\n",
    "    y_train_i = tf.convert_to_tensor([x[pixels*i_nn:pixels*(i_nn+1)].tolist() for x in y_train])\n",
    "    y_test_i = tf.convert_to_tensor([x[pixels*i_nn:pixels*(i_nn+1)].tolist() for x in y_test])\n",
    "    \n",
    "    tf.keras.backend.clear_session()\n",
    "    \n",
    "    model2 = Sequential()\n",
    "    model2.add(Conv1D(input_shape=(4096,1),filters=32,kernel_size=3,padding=\"same\", activation=\"relu\"))\n",
    "    model2.add(Conv1D(filters=32,kernel_size=3,padding=\"same\", activation=\"relu\"))\n",
    "    model2.add(MaxPooling1D(pool_size=2,strides=2))\n",
    "    model2.add(Conv1D(filters=64, kernel_size=3, padding=\"same\", activation=\"relu\"))\n",
    "    model2.add(Conv1D(filters=64, kernel_size=3, padding=\"same\", activation=\"relu\"))\n",
    "    model2.add(MaxPooling1D(pool_size=2,strides=2))\n",
    "    model2.add(Conv1D(filters=64, kernel_size=3, padding=\"same\", activation=\"relu\"))\n",
    "    model2.add(Conv1D(filters=64, kernel_size=3, padding=\"same\", activation=\"relu\"))\n",
    "    model2.add(Conv1D(filters=64, kernel_size=3, padding=\"same\", activation=\"relu\"))\n",
    "    model2.add(MaxPooling1D(pool_size=2,strides=2))\n",
    "    model2.add(Conv1D(filters=64, kernel_size=3, padding=\"same\", activation=\"relu\"))\n",
    "    model2.add(Conv1D(filters=64, kernel_size=3, padding=\"same\", activation=\"relu\"))\n",
    "    model2.add(Conv1D(filters=64, kernel_size=3, padding=\"same\", activation=\"relu\"))\n",
    "    model2.add(MaxPooling1D(pool_size=2,strides=2))\n",
    "    model2.add(Conv1D(filters=128, kernel_size=3, padding=\"same\", activation=\"relu\"))\n",
    "    model2.add(Conv1D(filters=128, kernel_size=3, padding=\"same\", activation=\"relu\"))\n",
    "    model2.add(Conv1D(filters=128, kernel_size=3, padding=\"same\", activation=\"relu\"))\n",
    "    model2.add(MaxPooling1D(pool_size=2,strides=2))\n",
    "    \n",
    "    model2.add(Flatten())\n",
    "    model2.add(Dense(units=4096,activation=\"relu\"))\n",
    "    model2.add(Dense(units=y_train_i[0].shape[0])) # no activation is linear\n",
    "    \n",
    "    model2.compile(\n",
    "        optimizer = Adam(learning_rate=0.001),\n",
    "        loss = \"mse\",\n",
    "        metrics = ['mse'])\n",
    "    \n",
    "    history= model2.fit(\n",
    "        x=x_train,\n",
    "        y=y_train_i,\n",
    "        epochs=15,\n",
    "        batch_size=1000,\n",
    "        verbose=0,\n",
    "        validation_data= (x_test, y_test_i))\n",
    "\n",
    "    score = model2.evaluate(\n",
    "        x=x_test,\n",
    "        y=y_test)\n",
    "\n",
    "    print(f\"\\nMODEL-{i_nn}\")\n",
    "    print('Test loss:', score[0])\n",
    "    print('Test accuracy:', score[1])\n",
    "    model2.save( CONFIG.get(\"files\", \"reconst_models\") + f'model_{i_nn}')"
   ]
  }
 ],
 "metadata": {
  "kernelspec": {
   "display_name": "Python 3.10.5 64-bit",
   "language": "python",
   "name": "python3"
  },
  "language_info": {
   "codemirror_mode": {
    "name": "ipython",
    "version": 3
   },
   "file_extension": ".py",
   "mimetype": "text/x-python",
   "name": "python",
   "nbconvert_exporter": "python",
   "pygments_lexer": "ipython3",
   "version": "3.10.5"
  },
  "vscode": {
   "interpreter": {
    "hash": "26de051ba29f2982a8de78e945f0abaf191376122a1563185a90213a26c5da77"
   }
  }
 },
 "nbformat": 4,
 "nbformat_minor": 5
}
